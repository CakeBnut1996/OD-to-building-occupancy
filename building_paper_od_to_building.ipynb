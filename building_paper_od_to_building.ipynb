{
 "cells": [
  {
   "cell_type": "code",
   "execution_count": 23,
   "id": "5946f1ad",
   "metadata": {},
   "outputs": [],
   "source": [
    "import pandas as pd\n",
    "import geopandas as gpd\n",
    "import random\n",
    "import fiona\n",
    "import matplotlib.pyplot as plt\n",
    "from scipy.spatial.distance import pdist, squareform\n",
    "from scipy.cluster.hierarchy import linkage, dendrogram, fcluster\n",
    "from geopy.distance import geodesic\n",
    "from pathlib import Path\n",
    "import random, os, sys\n",
    "import numpy as np\n",
    "import zipfile\n",
    "import seaborn as sns\n",
    "from archetypal import IDF\n",
    "\n",
    "sys.path.insert(0, 'C:/Users/mmh/Documents/Codes/cross-sectro-transp-energy-model/')\n",
    "# importlib.reload(sys.modules['src.calculation'])\n",
    "from src.func_buildings import *\n",
    "\n",
    "pd.set_option('display.max_columns', None)\n",
    "pd.set_option('display.max_rows', None)\n",
    "data_dir = 'C:/Users/mmh/Documents/Data/'\n",
    "data_dir2 = 'C:/Users/mmh/OneDrive - Oak Ridge National Laboratory/Melrose/9.Data/'"
   ]
  },
  {
   "cell_type": "code",
   "execution_count": 24,
   "id": "8a4a7f7c",
   "metadata": {},
   "outputs": [],
   "source": [
    "od_file = 'default'"
   ]
  },
  {
   "cell_type": "markdown",
   "id": "dad5fdf2",
   "metadata": {},
   "source": [
    "# building cap and location"
   ]
  },
  {
   "cell_type": "code",
   "execution_count": 25,
   "id": "6807d914",
   "metadata": {},
   "outputs": [],
   "source": [
    "building_loc = gpd.read_file(data_dir+'Buildings/GA/GA_buildings.shp')\n",
    "building_loc['BuildingClass'] = 'Commercial'\n",
    "building_loc.loc[building_loc.BuildingTy.isin(['MidriseApartment','HighriseApartment','IECC']),'BuildingClass'] = 'Residential'\n",
    "building_loc.loc[building_loc.BuildingTy.isin(['SmallOffice','MediumOffice','LargeOffice',\n",
    "                                              'PrimarySchool','SecondarySchool']),'BuildingClass'] = 'Industrial'"
   ]
  },
  {
   "cell_type": "code",
   "execution_count": 26,
   "id": "09c2584a",
   "metadata": {},
   "outputs": [
    {
     "name": "stdout",
     "output_type": "stream",
     "text": [
      "3207\n",
      "2701\n",
      "size: 0.0002GB\n"
     ]
    },
    {
     "data": {
      "text/html": [
       "<div>\n",
       "<style scoped>\n",
       "    .dataframe tbody tr th:only-of-type {\n",
       "        vertical-align: middle;\n",
       "    }\n",
       "\n",
       "    .dataframe tbody tr th {\n",
       "        vertical-align: top;\n",
       "    }\n",
       "\n",
       "    .dataframe thead th {\n",
       "        text-align: right;\n",
       "    }\n",
       "</style>\n",
       "<table border=\"1\" class=\"dataframe\">\n",
       "  <thead>\n",
       "    <tr style=\"text-align: right;\">\n",
       "      <th></th>\n",
       "      <th>ID</th>\n",
       "      <th>GEOID</th>\n",
       "      <th>Area</th>\n",
       "      <th>latitude</th>\n",
       "      <th>longitude</th>\n",
       "      <th>capacity</th>\n",
       "      <th>BuildingClass</th>\n",
       "    </tr>\n",
       "  </thead>\n",
       "  <tbody>\n",
       "    <tr>\n",
       "      <th>2</th>\n",
       "      <td>5007013188323</td>\n",
       "      <td>131210103091</td>\n",
       "      <td>81248.953328</td>\n",
       "      <td>33.63490535003784</td>\n",
       "      <td>-84.70748775605293</td>\n",
       "      <td>211.924259</td>\n",
       "      <td>Residential</td>\n",
       "    </tr>\n",
       "    <tr>\n",
       "      <th>3</th>\n",
       "      <td>5007013188409</td>\n",
       "      <td>131210103091</td>\n",
       "      <td>4860.119042</td>\n",
       "      <td>33.627810000000004</td>\n",
       "      <td>-84.722174</td>\n",
       "      <td>12.676805</td>\n",
       "      <td>Residential</td>\n",
       "    </tr>\n",
       "    <tr>\n",
       "      <th>4</th>\n",
       "      <td>5007013188411</td>\n",
       "      <td>131210105402</td>\n",
       "      <td>963.712308</td>\n",
       "      <td>33.53337218757921</td>\n",
       "      <td>-84.55780135614702</td>\n",
       "      <td>8.626163</td>\n",
       "      <td>Industrial</td>\n",
       "    </tr>\n",
       "    <tr>\n",
       "      <th>7</th>\n",
       "      <td>5007013188468</td>\n",
       "      <td>131210104021</td>\n",
       "      <td>1495.021808</td>\n",
       "      <td>33.528385905325436</td>\n",
       "      <td>-84.70077578500985</td>\n",
       "      <td>13.381900</td>\n",
       "      <td>Industrial</td>\n",
       "    </tr>\n",
       "    <tr>\n",
       "      <th>9</th>\n",
       "      <td>5007013188474</td>\n",
       "      <td>131210104021</td>\n",
       "      <td>1102.616960</td>\n",
       "      <td>33.524434</td>\n",
       "      <td>-84.73556700000002</td>\n",
       "      <td>9.869495</td>\n",
       "      <td>Industrial</td>\n",
       "    </tr>\n",
       "  </tbody>\n",
       "</table>\n",
       "</div>"
      ],
      "text/plain": [
       "              ID         GEOID          Area            latitude  \\\n",
       "2  5007013188323  131210103091  81248.953328   33.63490535003784   \n",
       "3  5007013188409  131210103091   4860.119042  33.627810000000004   \n",
       "4  5007013188411  131210105402    963.712308   33.53337218757921   \n",
       "7  5007013188468  131210104021   1495.021808  33.528385905325436   \n",
       "9  5007013188474  131210104021   1102.616960           33.524434   \n",
       "\n",
       "            longitude    capacity BuildingClass  \n",
       "2  -84.70748775605293  211.924259   Residential  \n",
       "3          -84.722174   12.676805   Residential  \n",
       "4  -84.55780135614702    8.626163    Industrial  \n",
       "7  -84.70077578500985   13.381900    Industrial  \n",
       "9  -84.73556700000002    9.869495    Industrial  "
      ]
     },
     "execution_count": 26,
     "metadata": {},
     "output_type": "execute_result"
    }
   ],
   "source": [
    "# %store -r building_cap\n",
    "# building_cap = pd.read_feather(data_dir+'Buildings/GA/building_cap_100BG.feather')\n",
    "building_cap = pd.read_feather(data_dir+'Buildings/GA/building_cap_rural.feather')\n",
    "building_cap = pd.merge(building_cap,building_loc[['ID','BuildingClass']],how='left',on='ID')\n",
    "building_cap['GEOID'] = building_cap['GEOID'].astype('int64')\n",
    "# building_cap['TRACTFP'] = building_cap['GEOID'].astype(str).str[0:11]\n",
    "print(len(building_cap))\n",
    "building_cap = building_cap[(building_cap.capacity<=500)&(building_cap.capacity>=5)]\n",
    "print(len(building_cap))\n",
    "print('size: '+str(round(building_cap.memory_usage(index=True).sum()/1e9,4))+'GB')\n",
    "building_cap.head()"
   ]
  },
  {
   "cell_type": "code",
   "execution_count": 5,
   "id": "3bf3ccd9",
   "metadata": {},
   "outputs": [
    {
     "data": {
      "text/plain": [
       "count    13424.000000\n",
       "mean        55.289708\n",
       "std         71.157470\n",
       "min          5.001217\n",
       "25%         17.206442\n",
       "50%         32.992576\n",
       "75%         59.037812\n",
       "max        498.922801\n",
       "Name: capacity, dtype: float64"
      ]
     },
     "execution_count": 5,
     "metadata": {},
     "output_type": "execute_result"
    }
   ],
   "source": [
    "building_cap.capacity.describe()"
   ]
  },
  {
   "cell_type": "code",
   "execution_count": 6,
   "id": "86de0fce",
   "metadata": {},
   "outputs": [
    {
     "data": {
      "text/plain": [
       "<Axes: xlabel='capacity', ylabel='Count'>"
      ]
     },
     "execution_count": 6,
     "metadata": {},
     "output_type": "execute_result"
    },
    {
     "data": {
      "image/png": "[encoded data removed]",
      "text/plain": [
       "<Figure size 640x480 with 1 Axes>"
      ]
     },
     "metadata": {},
     "output_type": "display_data"
    }
   ],
   "source": [
    "sns.histplot(data=building_cap,x='capacity')"
   ]
  },
  {
   "cell_type": "code",
   "execution_count": 35,
   "id": "a0afd6d4",
   "metadata": {},
   "outputs": [
    {
     "name": "stdout",
     "output_type": "stream",
     "text": [
      "17\n"
     ]
    }
   ],
   "source": [
    "selected_zones = np.unique(building_cap.GEOID.astype('int64'))\n",
    "print(len(selected_zones))\n",
    "# selected_zones"
   ]
  },
  {
   "cell_type": "markdown",
   "id": "ce095b3d",
   "metadata": {},
   "source": [
    "# OD data processing\n",
    "\n",
    "need to separate default, winter and summer"
   ]
  },
  {
   "cell_type": "code",
   "execution_count": 9,
   "id": "c548437f",
   "metadata": {},
   "outputs": [],
   "source": [
    "cols_mode = ['mode_air','mode_rail','mode_car','mode_bus','mode_walk','mode_bike']\n",
    "cols_purpose = ['purpose_hbw','purpose_hbo','purpose_wbo','purpose_obo']\n",
    "cols_time = ['hour_00','hour_01','hour_02','hour_03','hour_04','hour_05','hour_06','hour_07','hour_08','hour_09','hour_10','hour_11','hour_12',\n",
    "        'hour_13','hour_14','hour_15','hour_16','hour_17','hour_18','hour_19','hour_20','hour_21','hour_22','hour_23']\n",
    "cols = ['origin_zone_id', 'destination_zone_id','total_linked_trips'] + cols_time"
   ]
  },
  {
   "cell_type": "code",
   "execution_count": 10,
   "id": "2da381b0",
   "metadata": {},
   "outputs": [],
   "source": [
    "# for j in ['winter','summer','default']:\n",
    "#     if j == 'winter':\n",
    "#         month_list = ['12','01','02']\n",
    "#     elif j == 'summer':\n",
    "#         month_list = ['06','07','08']\n",
    "#     elif j == 'default':\n",
    "#         month_list = ['09','05']\n",
    "#     od_long = pd.DataFrame()\n",
    "#     for i in month_list:\n",
    "#         tmp = pd.read_feather(data_dir + 'OD/GDOT_2019_' + i + '_weekday_car_long.feather')\n",
    "#         tmp['trips'] = tmp['trips'] * tmp['car_share']\n",
    "#         tmp = tmp[['origin_zone_id', 'destination_zone_id','hour', 'trips']]\n",
    "\n",
    "#         # Concatenate the DataFrames along the rows\n",
    "#         od_long = pd.concat([od_long, tmp], axis=0, ignore_index=True, sort=False)\n",
    "\n",
    "#     # Group by the specified columns and sum the 'trips' column\n",
    "#     od_long = od_long.groupby(['origin_zone_id', 'destination_zone_id','hour'], as_index=False)['trips'].sum()\n",
    "    \n",
    "#     # Normalize 'trips' by the number of months\n",
    "#     od_long['trips'] /= len(month_list)\n",
    "    \n",
    "#     od_long = od_long.rename(columns={'origin_zone_id':'origin','destination_zone_id':'destination'})\n",
    "#     od_long['origin'] = od_long['origin'].astype('int64')\n",
    "#     od_long['destination'] = od_long['destination'].astype('int64')\n",
    "#     print(j+' OD data size: '+str(round(od_long.memory_usage(index=True).sum()/1e9,4))+'GB')\n",
    "#     if j == 'winter':\n",
    "#         od_winter = od_long.copy()\n",
    "#     elif j == 'summer':\n",
    "#         od_summer = od_long.copy()\n",
    "#     elif j == 'default':\n",
    "#         od_default = od_long.copy()   \n",
    "# del od_long, tmp\n",
    "\n",
    "# od_winter.to_feather(data_dir + 'OD/od_winter.feather')\n",
    "# od_summer.to_feather(data_dir + 'OD/od_summer.feather')\n",
    "# od_default.to_feather(data_dir + 'OD/od_default.feather')"
   ]
  },
  {
   "cell_type": "code",
   "execution_count": 11,
   "id": "670f5f97",
   "metadata": {},
   "outputs": [],
   "source": [
    "# df = od_long.groupby('hour').agg({'trips':'mean'}).reset_index()\n",
    "# df.head()\n",
    "# sns.barplot(data=df,x='hour',y='trips',color='steelblue')\n",
    "# plt.ylim(0,0.8)"
   ]
  },
  {
   "cell_type": "markdown",
   "id": "10768120",
   "metadata": {},
   "source": [
    "# read trip purpose and OD"
   ]
  },
  {
   "cell_type": "code",
   "execution_count": 27,
   "id": "e168bd27",
   "metadata": {},
   "outputs": [
    {
     "name": "stdout",
     "output_type": "stream",
     "text": [
      "216\n"
     ]
    },
    {
     "data": {
      "text/html": [
       "<div>\n",
       "<style scoped>\n",
       "    .dataframe tbody tr th:only-of-type {\n",
       "        vertical-align: middle;\n",
       "    }\n",
       "\n",
       "    .dataframe tbody tr th {\n",
       "        vertical-align: top;\n",
       "    }\n",
       "\n",
       "    .dataframe thead th {\n",
       "        text-align: right;\n",
       "    }\n",
       "</style>\n",
       "<table border=\"1\" class=\"dataframe\">\n",
       "  <thead>\n",
       "    <tr style=\"text-align: right;\">\n",
       "      <th></th>\n",
       "      <th>origin_purpose</th>\n",
       "      <th>destination_purpose</th>\n",
       "      <th>hour</th>\n",
       "      <th>share</th>\n",
       "      <th>purpose</th>\n",
       "    </tr>\n",
       "  </thead>\n",
       "  <tbody>\n",
       "    <tr>\n",
       "      <th>0</th>\n",
       "      <td>home</td>\n",
       "      <td>home</td>\n",
       "      <td>0</td>\n",
       "      <td>0.013773</td>\n",
       "      <td>hbh</td>\n",
       "    </tr>\n",
       "    <tr>\n",
       "      <th>1</th>\n",
       "      <td>home</td>\n",
       "      <td>work</td>\n",
       "      <td>0</td>\n",
       "      <td>0.000366</td>\n",
       "      <td>hbw</td>\n",
       "    </tr>\n",
       "    <tr>\n",
       "      <th>2</th>\n",
       "      <td>home</td>\n",
       "      <td>other</td>\n",
       "      <td>0</td>\n",
       "      <td>0.037755</td>\n",
       "      <td>hbo</td>\n",
       "    </tr>\n",
       "    <tr>\n",
       "      <th>3</th>\n",
       "      <td>work</td>\n",
       "      <td>home</td>\n",
       "      <td>0</td>\n",
       "      <td>0.312926</td>\n",
       "      <td>wbh</td>\n",
       "    </tr>\n",
       "    <tr>\n",
       "      <th>4</th>\n",
       "      <td>work</td>\n",
       "      <td>work</td>\n",
       "      <td>0</td>\n",
       "      <td>0.004091</td>\n",
       "      <td>wbw</td>\n",
       "    </tr>\n",
       "  </tbody>\n",
       "</table>\n",
       "</div>"
      ],
      "text/plain": [
       "  origin_purpose destination_purpose  hour     share purpose\n",
       "0           home                home     0  0.013773     hbh\n",
       "1           home                work     0  0.000366     hbw\n",
       "2           home               other     0  0.037755     hbo\n",
       "3           work                home     0  0.312926     wbh\n",
       "4           work                work     0  0.004091     wbw"
      ]
     },
     "execution_count": 27,
     "metadata": {},
     "output_type": "execute_result"
    }
   ],
   "source": [
    "purpose_time = pd.read_csv(data_dir+'OD/purpose_by_time.csv')\n",
    "print(len(purpose_time))\n",
    "purpose_time.head()"
   ]
  },
  {
   "cell_type": "code",
   "execution_count": 13,
   "id": "b5c83f42",
   "metadata": {},
   "outputs": [],
   "source": [
    "def max_negative(df):\n",
    "    negative = df[df['occupancy']<0].occupancy.values\n",
    "    if len(negative)!=0:\n",
    "        value = np.max(np.abs(negative))\n",
    "    else:\n",
    "        value = 0\n",
    "    return(value)"
   ]
  },
  {
   "cell_type": "code",
   "execution_count": 14,
   "id": "d3b80fd7",
   "metadata": {},
   "outputs": [
    {
     "data": {
      "text/html": [
       "<div>\n",
       "<style scoped>\n",
       "    .dataframe tbody tr th:only-of-type {\n",
       "        vertical-align: middle;\n",
       "    }\n",
       "\n",
       "    .dataframe tbody tr th {\n",
       "        vertical-align: top;\n",
       "    }\n",
       "\n",
       "    .dataframe thead th {\n",
       "        text-align: right;\n",
       "    }\n",
       "</style>\n",
       "<table border=\"1\" class=\"dataframe\">\n",
       "  <thead>\n",
       "    <tr style=\"text-align: right;\">\n",
       "      <th></th>\n",
       "      <th>origin_purpose</th>\n",
       "      <th>destination_purpose</th>\n",
       "      <th>hour</th>\n",
       "      <th>share</th>\n",
       "      <th>purpose</th>\n",
       "    </tr>\n",
       "  </thead>\n",
       "  <tbody>\n",
       "    <tr>\n",
       "      <th>0</th>\n",
       "      <td>home</td>\n",
       "      <td>home</td>\n",
       "      <td>0</td>\n",
       "      <td>0.013773</td>\n",
       "      <td>hbh</td>\n",
       "    </tr>\n",
       "    <tr>\n",
       "      <th>1</th>\n",
       "      <td>home</td>\n",
       "      <td>work</td>\n",
       "      <td>0</td>\n",
       "      <td>0.000366</td>\n",
       "      <td>hbw</td>\n",
       "    </tr>\n",
       "    <tr>\n",
       "      <th>2</th>\n",
       "      <td>home</td>\n",
       "      <td>other</td>\n",
       "      <td>0</td>\n",
       "      <td>0.037755</td>\n",
       "      <td>hbo</td>\n",
       "    </tr>\n",
       "    <tr>\n",
       "      <th>3</th>\n",
       "      <td>work</td>\n",
       "      <td>home</td>\n",
       "      <td>0</td>\n",
       "      <td>0.312926</td>\n",
       "      <td>wbh</td>\n",
       "    </tr>\n",
       "    <tr>\n",
       "      <th>4</th>\n",
       "      <td>work</td>\n",
       "      <td>work</td>\n",
       "      <td>0</td>\n",
       "      <td>0.004091</td>\n",
       "      <td>wbw</td>\n",
       "    </tr>\n",
       "  </tbody>\n",
       "</table>\n",
       "</div>"
      ],
      "text/plain": [
       "  origin_purpose destination_purpose  hour     share purpose\n",
       "0           home                home     0  0.013773     hbh\n",
       "1           home                work     0  0.000366     hbw\n",
       "2           home               other     0  0.037755     hbo\n",
       "3           work                home     0  0.312926     wbh\n",
       "4           work                work     0  0.004091     wbw"
      ]
     },
     "execution_count": 14,
     "metadata": {},
     "output_type": "execute_result"
    }
   ],
   "source": [
    "purpose_time.head()"
   ]
  },
  {
   "cell_type": "markdown",
   "id": "3b2bbda2",
   "metadata": {},
   "source": [
    "# Calibration"
   ]
  },
  {
   "cell_type": "code",
   "execution_count": 28,
   "id": "7ef079c1",
   "metadata": {},
   "outputs": [
    {
     "name": "stdout",
     "output_type": "stream",
     "text": [
      "Finish calculation: work\n",
      "Finish calculation: other\n",
      "Finish calculation: home\n",
      "2424\n",
      "2424\n"
     ]
    }
   ],
   "source": [
    "veh_occ = 1.67\n",
    "od_long = pd.read_feather(data_dir+'OD/'+'od_default'+'.feather')\n",
    "od_long['trips'] = od_long['trips'] * veh_occ\n",
    "bg_occ = estimate_bg_occ(od_long,selected_zones,purpose_time)"
   ]
  },
  {
   "cell_type": "code",
   "execution_count": 29,
   "id": "9bbe0c28",
   "metadata": {},
   "outputs": [
    {
     "data": {
      "text/plain": [
       "0.0"
      ]
     },
     "execution_count": 29,
     "metadata": {},
     "output_type": "execute_result"
    }
   ],
   "source": [
    "bg_occupancy_selected = bg_occ[bg_occ.stay_type =='home']\n",
    "building_selected = building_cap[building_cap.BuildingClass=='Residential']\n",
    "building_selected = building_selected.groupby('GEOID').agg({'capacity':'sum'}).reset_index()\n",
    "building_schedule = pd.DataFrame()\n",
    "building_schedule['GEOID'] = np.repeat(selected_zones,24)\n",
    "building_schedule['hour'] = list(range(0,24))*len(selected_zones)\n",
    "building_schedule = pd.merge(building_schedule,building_selected[['GEOID','capacity']],how='left',on='GEOID')\n",
    "building_schedule = pd.merge(building_schedule,\n",
    "                             bg_occupancy_selected[['GEOID','hour','occupancy']],\n",
    "                             how='left',on=['GEOID','hour'])\n",
    "clibration_od_building = building_schedule.capacity.sum()/building_schedule.occupancy.sum()\n",
    "clibration_od_building"
   ]
  },
  {
   "cell_type": "code",
   "execution_count": 30,
   "id": "4c448a21",
   "metadata": {},
   "outputs": [
    {
     "data": {
      "text/plain": [
       "0.0"
      ]
     },
     "execution_count": 30,
     "metadata": {},
     "output_type": "execute_result"
    }
   ],
   "source": [
    "bg_occupancy_selected = bg_occ[bg_occ.stay_type =='work']\n",
    "building_selected = building_cap[building_cap.BuildingClass!='Residential']\n",
    "building_selected = building_selected.groupby('GEOID').agg({'capacity':'sum'}).reset_index()\n",
    "building_schedule = pd.DataFrame()\n",
    "building_schedule['GEOID'] = np.repeat(selected_zones,24)\n",
    "building_schedule['hour'] = list(range(0,24))*len(selected_zones)\n",
    "building_schedule = pd.merge(building_schedule,building_selected[['GEOID','capacity']],how='left',on='GEOID')\n",
    "building_schedule = pd.merge(building_schedule,\n",
    "                             bg_occupancy_selected[['GEOID','hour','occupancy']],\n",
    "                             how='left',on=['GEOID','hour'])\n",
    "clibration_od_building_work = building_schedule.capacity.sum()/building_schedule.occupancy.sum()*0.8\n",
    "clibration_od_building_work"
   ]
  },
  {
   "cell_type": "code",
   "execution_count": 31,
   "id": "786848b6",
   "metadata": {},
   "outputs": [
    {
     "data": {
      "text/plain": [
       "0.0"
      ]
     },
     "execution_count": 31,
     "metadata": {},
     "output_type": "execute_result"
    }
   ],
   "source": [
    "bg_occupancy_selected = bg_occ[bg_occ.stay_type =='other']\n",
    "building_selected = building_cap[building_cap.BuildingClass=='Commercial']\n",
    "building_selected = building_selected.groupby('GEOID').agg({'capacity':'sum'}).reset_index()\n",
    "building_schedule = pd.DataFrame()\n",
    "building_schedule['GEOID'] = np.repeat(selected_zones,24)\n",
    "building_schedule['hour'] = list(range(0,24))*len(selected_zones)\n",
    "building_schedule = pd.merge(building_schedule,building_selected[['GEOID','capacity']],how='left',on='GEOID')\n",
    "building_schedule = pd.merge(building_schedule,\n",
    "                             bg_occupancy_selected[['GEOID','hour','occupancy']],\n",
    "                             how='left',on=['GEOID','hour'])\n",
    "clibration_od_building_other = building_schedule.capacity.sum()/building_schedule.occupancy.sum()\n",
    "clibration_od_building_other"
   ]
  },
  {
   "cell_type": "markdown",
   "id": "16bcd330",
   "metadata": {},
   "source": [
    "# Block Group: Occupancy"
   ]
  },
  {
   "cell_type": "code",
   "execution_count": 36,
   "id": "bd541f07",
   "metadata": {},
   "outputs": [
    {
     "name": "stdout",
     "output_type": "stream",
     "text": [
      "Finish calculation: work\n",
      "Finish calculation: other\n",
      "Finish calculation: home\n",
      "408\n",
      "408\n"
     ]
    }
   ],
   "source": [
    "od_long = pd.read_feather(data_dir+'OD/od_'+od_file+'.feather')\n",
    "od_long['trips'] = od_long['trips'] * veh_occ\n",
    "bg_occ = estimate_bg_occ(od_long,selected_zones,purpose_time)"
   ]
  },
  {
   "cell_type": "code",
   "execution_count": 37,
   "id": "19d938c6",
   "metadata": {},
   "outputs": [
    {
     "data": {
      "image/png": "[encoded data removed]",
      "text/plain": [
       "<Figure size 640x480 with 1 Axes>"
      ]
     },
     "metadata": {},
     "output_type": "display_data"
    }
   ],
   "source": [
    "plt.hist(bg_occ.offset)\n",
    "plt.show()"
   ]
  },
  {
   "cell_type": "code",
   "execution_count": 38,
   "id": "3a305948",
   "metadata": {},
   "outputs": [
    {
     "data": {
      "image/png": "[encoded data removed]",
      "text/plain": [
       "<Figure size 640x480 with 1 Axes>"
      ]
     },
     "metadata": {},
     "output_type": "display_data"
    }
   ],
   "source": [
    "bg_tot = bg_occ.groupby(['origin','stay_type']).agg({'occupancy':'sum'}).reset_index().rename(columns={'occupancy':'total'})\n",
    "bg_plt = pd.merge(bg_occ,bg_tot,how='left',on=['origin','stay_type'])\n",
    "bg_plt['share'] = bg_plt['occupancy']/bg_plt['total']*100\n",
    "bg_plt = bg_plt.groupby(['hour','stay_type']).agg({'share':'mean'}).reset_index()\n",
    "sns.lineplot(data=bg_plt,x='hour',y='share',hue='stay_type', markers=['o', 's', '^'])\n",
    "plt.ylabel(\"Average Block Group Occupants Share (%)\")\n",
    "plt.xlabel(\"Hour of Day\")\n",
    "# plt.xlim(0,24)\n",
    "plt.legend(title='Occupancy Type',bbox_to_anchor=(1.05, 1), loc='upper left')\n",
    "# plt.ylim(0,1800)\n",
    "plt.show()"
   ]
  },
  {
   "cell_type": "markdown",
   "id": "0036b2d8",
   "metadata": {},
   "source": [
    "# Building: Conduct assignment for each trip purpose\n",
    "- home -> residential buildings\n",
    "- work -> non-residential buildings (i.e., industrial & commercial)\n",
    "- other -> commercial buildings\n",
    "\n",
    "https://www.nature.com/articles/s41467-019-11685-w"
   ]
  },
  {
   "cell_type": "code",
   "execution_count": 217,
   "id": "d1131658",
   "metadata": {},
   "outputs": [],
   "source": [
    "mu = 0.5"
   ]
  },
  {
   "cell_type": "code",
   "execution_count": 218,
   "id": "bf685e70",
   "metadata": {},
   "outputs": [],
   "source": [
    "# building_na = np.random.normal(10, 5)\n",
    "fill_random = lambda x: abs(np.random.normal(10, 50)) if pd.isna(x) or x == 0 else x "
   ]
  },
  {
   "cell_type": "markdown",
   "id": "bf97a5fb",
   "metadata": {},
   "source": [
    "### home stay: assign only to residential buildings based on capacity"
   ]
  },
  {
   "cell_type": "code",
   "execution_count": 219,
   "id": "cd94a267",
   "metadata": {},
   "outputs": [
    {
     "name": "stdout",
     "output_type": "stream",
     "text": [
      "1277\n",
      "61.7565962042436\n"
     ]
    },
    {
     "data": {
      "text/plain": [
       "count    1277.000000\n",
       "mean       26.092070\n",
       "std        14.588274\n",
       "min         5.022565\n",
       "25%        13.443384\n",
       "50%        26.819943\n",
       "75%        36.011651\n",
       "max        61.713836\n",
       "Name: capacity, dtype: float64"
      ]
     },
     "execution_count": 219,
     "metadata": {},
     "output_type": "execute_result"
    }
   ],
   "source": [
    "# residential\n",
    "building_selected = building_cap[building_cap.BuildingClass=='Residential']\n",
    "print(len(np.unique(building_selected.ID)))\n",
    "cutoff = np.percentile(building_selected['capacity'], 90)\n",
    "print(cutoff)\n",
    "building_selected.loc[building_selected.capacity>=cutoff,'capacity'] = int(np.random.normal(building_selected.capacity.mean(), 5))\n",
    "building_selected.capacity.describe()"
   ]
  },
  {
   "cell_type": "code",
   "execution_count": 220,
   "id": "898224ff",
   "metadata": {},
   "outputs": [
    {
     "name": "stdout",
     "output_type": "stream",
     "text": [
      "Only one building of this type\n",
      "271\n"
     ]
    }
   ],
   "source": [
    "### Clustering\n",
    "building_selected = building_selected.groupby(['GEOID']).apply(hierarchical_clustering_ward)\n",
    "print(len(np.unique(building_selected.Cluster)))"
   ]
  },
  {
   "cell_type": "code",
   "execution_count": 221,
   "id": "e0be155b",
   "metadata": {},
   "outputs": [
    {
     "name": "stdout",
     "output_type": "stream",
     "text": [
      "1277\n"
     ]
    },
    {
     "data": {
      "text/html": [
       "<div>\n",
       "<style scoped>\n",
       "    .dataframe tbody tr th:only-of-type {\n",
       "        vertical-align: middle;\n",
       "    }\n",
       "\n",
       "    .dataframe tbody tr th {\n",
       "        vertical-align: top;\n",
       "    }\n",
       "\n",
       "    .dataframe thead th {\n",
       "        text-align: right;\n",
       "    }\n",
       "</style>\n",
       "<table border=\"1\" class=\"dataframe\">\n",
       "  <thead>\n",
       "    <tr style=\"text-align: right;\">\n",
       "      <th></th>\n",
       "      <th>ID</th>\n",
       "      <th>GEOID</th>\n",
       "      <th>Area</th>\n",
       "      <th>latitude</th>\n",
       "      <th>longitude</th>\n",
       "      <th>capacity</th>\n",
       "      <th>BuildingClass</th>\n",
       "      <th>Cluster</th>\n",
       "    </tr>\n",
       "  </thead>\n",
       "  <tbody>\n",
       "    <tr>\n",
       "      <th>2</th>\n",
       "      <td>5007013188323</td>\n",
       "      <td>131210103091</td>\n",
       "      <td>81248.953328</td>\n",
       "      <td>33.63490535003784</td>\n",
       "      <td>-84.70748775605293</td>\n",
       "      <td>28.000000</td>\n",
       "      <td>Residential</td>\n",
       "      <td>8</td>\n",
       "    </tr>\n",
       "    <tr>\n",
       "      <th>3</th>\n",
       "      <td>5007013188409</td>\n",
       "      <td>131210103091</td>\n",
       "      <td>4860.119042</td>\n",
       "      <td>33.627810000000004</td>\n",
       "      <td>-84.722174</td>\n",
       "      <td>12.676805</td>\n",
       "      <td>Residential</td>\n",
       "      <td>3</td>\n",
       "    </tr>\n",
       "    <tr>\n",
       "      <th>11</th>\n",
       "      <td>5007013188522</td>\n",
       "      <td>131210104023</td>\n",
       "      <td>3236.861987</td>\n",
       "      <td>33.57099101846627</td>\n",
       "      <td>-84.77277532478413</td>\n",
       "      <td>8.442811</td>\n",
       "      <td>Residential</td>\n",
       "      <td>133</td>\n",
       "    </tr>\n",
       "    <tr>\n",
       "      <th>14</th>\n",
       "      <td>5007013188596</td>\n",
       "      <td>131210105343</td>\n",
       "      <td>3033.968820</td>\n",
       "      <td>33.526765</td>\n",
       "      <td>-84.58432649999999</td>\n",
       "      <td>7.913599</td>\n",
       "      <td>Residential</td>\n",
       "      <td>10</td>\n",
       "    </tr>\n",
       "    <tr>\n",
       "      <th>15</th>\n",
       "      <td>5007013188597</td>\n",
       "      <td>131210104022</td>\n",
       "      <td>2955.131323</td>\n",
       "      <td>33.55958083761586</td>\n",
       "      <td>-84.69737017329578</td>\n",
       "      <td>7.707964</td>\n",
       "      <td>Residential</td>\n",
       "      <td>128</td>\n",
       "    </tr>\n",
       "  </tbody>\n",
       "</table>\n",
       "</div>"
      ],
      "text/plain": [
       "               ID         GEOID          Area            latitude  \\\n",
       "2   5007013188323  131210103091  81248.953328   33.63490535003784   \n",
       "3   5007013188409  131210103091   4860.119042  33.627810000000004   \n",
       "11  5007013188522  131210104023   3236.861987   33.57099101846627   \n",
       "14  5007013188596  131210105343   3033.968820           33.526765   \n",
       "15  5007013188597  131210104022   2955.131323   33.55958083761586   \n",
       "\n",
       "             longitude   capacity BuildingClass  Cluster  \n",
       "2   -84.70748775605293  28.000000   Residential        8  \n",
       "3           -84.722174  12.676805   Residential        3  \n",
       "11  -84.77277532478413   8.442811   Residential      133  \n",
       "14  -84.58432649999999   7.913599   Residential       10  \n",
       "15  -84.69737017329578   7.707964   Residential      128  "
      ]
     },
     "execution_count": 221,
     "metadata": {},
     "output_type": "execute_result"
    }
   ],
   "source": [
    "print(len(building_selected))\n",
    "building_selected.head()"
   ]
  },
  {
   "cell_type": "code",
   "execution_count": 222,
   "id": "fcb7b920",
   "metadata": {},
   "outputs": [],
   "source": [
    "# gdf = gpd.GeoDataFrame(building_selected, \n",
    "#                        geometry=gpd.points_from_xy(building_selected['longitude'], building_selected['latitude']))\n",
    "# # Plot the GeoDataFrame\n",
    "# fig, ax = plt.subplots(1, 1)\n",
    "# gdf.plot(column='Cluster', cmap=\"Spectral\", linewidth=0.8, ax=ax, legend=True)"
   ]
  },
  {
   "cell_type": "code",
   "execution_count": 223,
   "id": "a629a042",
   "metadata": {},
   "outputs": [],
   "source": [
    "# building_selected = building_cap[building_cap.BuildingClass=='Residential']\n",
    "# building_bg = building_selected.groupby(['GEOID']).agg({'capacity':'sum'}).reset_index().rename(columns={'capacity':'capacity_bg'})\n",
    "# assign_model = pd.merge(building_selected,building_bg,how='left',on=['GEOID'])\n",
    "# assign_model['PBuilding'] = assign_model['capacity']/assign_model['capacity_bg']\n",
    "# assign_model['PCluster'] = 1\n",
    "# assign_model = assign_model.sort_values(['GEOID','ID'])\n",
    "# assign_model.head()"
   ]
  },
  {
   "cell_type": "code",
   "execution_count": 224,
   "id": "228a2a51",
   "metadata": {},
   "outputs": [
    {
     "name": "stdout",
     "output_type": "stream",
     "text": [
      "1277\n"
     ]
    },
    {
     "data": {
      "text/html": [
       "<div>\n",
       "<style scoped>\n",
       "    .dataframe tbody tr th:only-of-type {\n",
       "        vertical-align: middle;\n",
       "    }\n",
       "\n",
       "    .dataframe tbody tr th {\n",
       "        vertical-align: top;\n",
       "    }\n",
       "\n",
       "    .dataframe thead th {\n",
       "        text-align: right;\n",
       "    }\n",
       "</style>\n",
       "<table border=\"1\" class=\"dataframe\">\n",
       "  <thead>\n",
       "    <tr style=\"text-align: right;\">\n",
       "      <th></th>\n",
       "      <th>ID</th>\n",
       "      <th>GEOID</th>\n",
       "      <th>Area</th>\n",
       "      <th>latitude</th>\n",
       "      <th>longitude</th>\n",
       "      <th>capacity</th>\n",
       "      <th>BuildingClass</th>\n",
       "      <th>Cluster</th>\n",
       "      <th>capacity_Cluster</th>\n",
       "      <th>capacity_Tract</th>\n",
       "      <th>numerator</th>\n",
       "      <th>denominator</th>\n",
       "      <th>PCluster</th>\n",
       "      <th>PBuilding</th>\n",
       "    </tr>\n",
       "  </thead>\n",
       "  <tbody>\n",
       "    <tr>\n",
       "      <th>528</th>\n",
       "      <td>5007013254531</td>\n",
       "      <td>131210103091</td>\n",
       "      <td>6961.925425</td>\n",
       "      <td>33.63141291356119</td>\n",
       "      <td>-84.72154774642901</td>\n",
       "      <td>18.159014</td>\n",
       "      <td>Residential</td>\n",
       "      <td>1</td>\n",
       "      <td>41.322022</td>\n",
       "      <td>5233.385612</td>\n",
       "      <td>0.000702</td>\n",
       "      <td>0.08172</td>\n",
       "      <td>0.008586</td>\n",
       "      <td>0.439451</td>\n",
       "    </tr>\n",
       "    <tr>\n",
       "      <th>736</th>\n",
       "      <td>5007013256334</td>\n",
       "      <td>131210103091</td>\n",
       "      <td>8880.390196</td>\n",
       "      <td>33.6315885</td>\n",
       "      <td>-84.7210815</td>\n",
       "      <td>23.163008</td>\n",
       "      <td>Residential</td>\n",
       "      <td>1</td>\n",
       "      <td>41.322022</td>\n",
       "      <td>5233.385612</td>\n",
       "      <td>0.000702</td>\n",
       "      <td>0.08172</td>\n",
       "      <td>0.008586</td>\n",
       "      <td>0.560549</td>\n",
       "    </tr>\n",
       "    <tr>\n",
       "      <th>1233</th>\n",
       "      <td>5007013301523</td>\n",
       "      <td>131210103091</td>\n",
       "      <td>7225.821967</td>\n",
       "      <td>33.63021983550179</td>\n",
       "      <td>-84.72101975394426</td>\n",
       "      <td>6.075270</td>\n",
       "      <td>Residential</td>\n",
       "      <td>2</td>\n",
       "      <td>6.075270</td>\n",
       "      <td>5233.385612</td>\n",
       "      <td>0.000040</td>\n",
       "      <td>0.08172</td>\n",
       "      <td>0.000484</td>\n",
       "      <td>1.000000</td>\n",
       "    </tr>\n",
       "  </tbody>\n",
       "</table>\n",
       "</div>"
      ],
      "text/plain": [
       "                 ID         GEOID         Area           latitude  \\\n",
       "528   5007013254531  131210103091  6961.925425  33.63141291356119   \n",
       "736   5007013256334  131210103091  8880.390196         33.6315885   \n",
       "1233  5007013301523  131210103091  7225.821967  33.63021983550179   \n",
       "\n",
       "               longitude   capacity BuildingClass  Cluster  capacity_Cluster  \\\n",
       "528   -84.72154774642901  18.159014   Residential        1         41.322022   \n",
       "736          -84.7210815  23.163008   Residential        1         41.322022   \n",
       "1233  -84.72101975394426   6.075270   Residential        2          6.075270   \n",
       "\n",
       "      capacity_Tract  numerator  denominator  PCluster  PBuilding  \n",
       "528      5233.385612   0.000702      0.08172  0.008586   0.439451  \n",
       "736      5233.385612   0.000702      0.08172  0.008586   0.560549  \n",
       "1233     5233.385612   0.000040      0.08172  0.000484   1.000000  "
      ]
     },
     "execution_count": 224,
     "metadata": {},
     "output_type": "execute_result"
    }
   ],
   "source": [
    "### Assignment probability\n",
    "building_cluster = building_selected.groupby(['GEOID','Cluster']).agg({'capacity':'sum'}).reset_index().rename(columns={'capacity':'capacity_Cluster'})\n",
    "building_tract = building_cluster.groupby(['GEOID']).agg({'capacity_Cluster':'sum'}).reset_index().rename(columns={'capacity_Cluster':'capacity_Tract'})\n",
    "building_cluster = pd.merge(building_cluster,building_tract,how='left',on=['GEOID'])\n",
    "building_cluster['numerator'] = np.power(building_cluster['capacity_Cluster']/building_cluster['capacity_Tract'],1+mu)\n",
    "building_tract = building_cluster.groupby(['GEOID']).agg({'numerator':'sum'}).reset_index().rename(columns={'numerator':'denominator'})\n",
    "building_cluster = pd.merge(building_cluster,building_tract,how='left',on=['GEOID'])\n",
    "building_cluster['PCluster'] = building_cluster['numerator']/building_cluster['denominator']\n",
    "assign_model = pd.merge(building_selected,building_cluster,how='left',on=['GEOID','Cluster'])\n",
    "assign_model['PBuilding'] = assign_model['capacity']/assign_model['capacity_Cluster']\n",
    "assign_model = assign_model.sort_values(['GEOID','Cluster','ID'])\n",
    "print(len(assign_model))\n",
    "assign_model.head(3)"
   ]
  },
  {
   "cell_type": "code",
   "execution_count": 225,
   "id": "d6954c1a",
   "metadata": {},
   "outputs": [
    {
     "data": {
      "text/html": [
       "<div>\n",
       "<style scoped>\n",
       "    .dataframe tbody tr th:only-of-type {\n",
       "        vertical-align: middle;\n",
       "    }\n",
       "\n",
       "    .dataframe tbody tr th {\n",
       "        vertical-align: top;\n",
       "    }\n",
       "\n",
       "    .dataframe thead th {\n",
       "        text-align: right;\n",
       "    }\n",
       "</style>\n",
       "<table border=\"1\" class=\"dataframe\">\n",
       "  <thead>\n",
       "    <tr style=\"text-align: right;\">\n",
       "      <th></th>\n",
       "      <th>ID</th>\n",
       "      <th>hour</th>\n",
       "      <th>GEOID</th>\n",
       "      <th>BuildingClass</th>\n",
       "      <th>capacity</th>\n",
       "      <th>PBuilding</th>\n",
       "      <th>PCluster</th>\n",
       "      <th>occupancy</th>\n",
       "      <th>stay_type</th>\n",
       "      <th>occupancy_building</th>\n",
       "      <th>occupancy_building_frac</th>\n",
       "    </tr>\n",
       "  </thead>\n",
       "  <tbody>\n",
       "    <tr>\n",
       "      <th>0</th>\n",
       "      <td>5007013188323</td>\n",
       "      <td>0</td>\n",
       "      <td>131210103091</td>\n",
       "      <td>Residential</td>\n",
       "      <td>28.0</td>\n",
       "      <td>1.0</td>\n",
       "      <td>0.004789</td>\n",
       "      <td>1190.077667</td>\n",
       "      <td>home</td>\n",
       "      <td>21.535513</td>\n",
       "      <td>0.769125</td>\n",
       "    </tr>\n",
       "    <tr>\n",
       "      <th>1</th>\n",
       "      <td>5007013188323</td>\n",
       "      <td>1</td>\n",
       "      <td>131210103091</td>\n",
       "      <td>Residential</td>\n",
       "      <td>28.0</td>\n",
       "      <td>1.0</td>\n",
       "      <td>0.004789</td>\n",
       "      <td>1209.836604</td>\n",
       "      <td>home</td>\n",
       "      <td>21.893069</td>\n",
       "      <td>0.781895</td>\n",
       "    </tr>\n",
       "    <tr>\n",
       "      <th>2</th>\n",
       "      <td>5007013188323</td>\n",
       "      <td>2</td>\n",
       "      <td>131210103091</td>\n",
       "      <td>Residential</td>\n",
       "      <td>28.0</td>\n",
       "      <td>1.0</td>\n",
       "      <td>0.004789</td>\n",
       "      <td>1242.175790</td>\n",
       "      <td>home</td>\n",
       "      <td>22.478275</td>\n",
       "      <td>0.802796</td>\n",
       "    </tr>\n",
       "    <tr>\n",
       "      <th>3</th>\n",
       "      <td>5007013188323</td>\n",
       "      <td>3</td>\n",
       "      <td>131210103091</td>\n",
       "      <td>Residential</td>\n",
       "      <td>28.0</td>\n",
       "      <td>1.0</td>\n",
       "      <td>0.004789</td>\n",
       "      <td>1256.487479</td>\n",
       "      <td>home</td>\n",
       "      <td>22.737258</td>\n",
       "      <td>0.812045</td>\n",
       "    </tr>\n",
       "    <tr>\n",
       "      <th>4</th>\n",
       "      <td>5007013188323</td>\n",
       "      <td>4</td>\n",
       "      <td>131210103091</td>\n",
       "      <td>Residential</td>\n",
       "      <td>28.0</td>\n",
       "      <td>1.0</td>\n",
       "      <td>0.004789</td>\n",
       "      <td>1226.186884</td>\n",
       "      <td>home</td>\n",
       "      <td>22.188942</td>\n",
       "      <td>0.792462</td>\n",
       "    </tr>\n",
       "  </tbody>\n",
       "</table>\n",
       "</div>"
      ],
      "text/plain": [
       "              ID  hour         GEOID BuildingClass  capacity  PBuilding  \\\n",
       "0  5007013188323     0  131210103091   Residential      28.0        1.0   \n",
       "1  5007013188323     1  131210103091   Residential      28.0        1.0   \n",
       "2  5007013188323     2  131210103091   Residential      28.0        1.0   \n",
       "3  5007013188323     3  131210103091   Residential      28.0        1.0   \n",
       "4  5007013188323     4  131210103091   Residential      28.0        1.0   \n",
       "\n",
       "   PCluster    occupancy stay_type  occupancy_building  \\\n",
       "0  0.004789  1190.077667      home           21.535513   \n",
       "1  0.004789  1209.836604      home           21.893069   \n",
       "2  0.004789  1242.175790      home           22.478275   \n",
       "3  0.004789  1256.487479      home           22.737258   \n",
       "4  0.004789  1226.186884      home           22.188942   \n",
       "\n",
       "   occupancy_building_frac  \n",
       "0                 0.769125  \n",
       "1                 0.781895  \n",
       "2                 0.802796  \n",
       "3                 0.812045  \n",
       "4                 0.792462  "
      ]
     },
     "execution_count": 225,
     "metadata": {},
     "output_type": "execute_result"
    }
   ],
   "source": [
    "bg_occupancy_selected = bg_occ[bg_occ.stay_type =='home']\n",
    "building_ID = np.unique(building_selected.ID)\n",
    "building_schedule = pd.DataFrame()\n",
    "building_schedule['ID'] = np.repeat(building_ID,24)\n",
    "building_schedule['hour'] = list(range(0,24))*len(building_ID)\n",
    "building_schedule = pd.merge(building_schedule,assign_model[['ID','GEOID','BuildingClass','capacity','PBuilding','PCluster']],how='left',on='ID')\n",
    "building_schedule = pd.merge(building_schedule,\n",
    "                             bg_occupancy_selected[['GEOID','hour','occupancy','stay_type']],\n",
    "                             how='left',on=['GEOID','hour'])\n",
    "building_schedule['occupancy'] = building_schedule['occupancy'].apply(fill_random)\n",
    "building_schedule['occupancy_building'] = building_schedule['occupancy'] * building_schedule['PBuilding'] * building_schedule['PCluster']\n",
    "# calibrate OD to building\n",
    "building_schedule['occupancy_building'] = building_schedule['occupancy_building']*clibration_od_building\n",
    "# need to examine how many exceeding caps\n",
    "building_schedule.loc[building_schedule['occupancy_building']>=building_schedule['capacity'],'occupancy_building'] = building_schedule.loc[building_schedule['occupancy_building']>=building_schedule['capacity'],'capacity']\n",
    "building_schedule['occupancy_building_frac'] = building_schedule['occupancy_building']/building_schedule['capacity']\n",
    "\n",
    "building_schedule_residential = building_schedule.copy()\n",
    "building_schedule.head()"
   ]
  },
  {
   "cell_type": "code",
   "execution_count": 226,
   "id": "fb99fe77",
   "metadata": {},
   "outputs": [
    {
     "data": {
      "text/plain": [
       "count    30648.000000\n",
       "mean       530.604334\n",
       "std        434.185427\n",
       "min          0.015677\n",
       "25%        152.241215\n",
       "50%        495.893360\n",
       "75%        758.798402\n",
       "max       2752.921647\n",
       "Name: occupancy, dtype: float64"
      ]
     },
     "execution_count": 226,
     "metadata": {},
     "output_type": "execute_result"
    }
   ],
   "source": [
    "building_schedule.occupancy.describe()"
   ]
  },
  {
   "cell_type": "code",
   "execution_count": 227,
   "id": "774f909d",
   "metadata": {},
   "outputs": [
    {
     "data": {
      "text/plain": [
       "count    30648.000000\n",
       "mean         0.380485\n",
       "std          0.348990\n",
       "min          0.000007\n",
       "25%          0.099499\n",
       "50%          0.263530\n",
       "75%          0.568606\n",
       "max          1.000000\n",
       "Name: occupancy_building_frac, dtype: float64"
      ]
     },
     "execution_count": 227,
     "metadata": {},
     "output_type": "execute_result"
    }
   ],
   "source": [
    "building_schedule.occupancy_building_frac.describe()"
   ]
  },
  {
   "cell_type": "code",
   "execution_count": 228,
   "id": "a4197ce1",
   "metadata": {},
   "outputs": [
    {
     "data": {
      "text/plain": [
       "<Axes: xlabel='hour', ylabel='occupancy_building_frac'>"
      ]
     },
     "execution_count": 228,
     "metadata": {},
     "output_type": "execute_result"
    },
    {
     "data": {
      "image/png": "[encoded data removed]",
      "text/plain": [
       "<Figure size 640x480 with 1 Axes>"
      ]
     },
     "metadata": {},
     "output_type": "display_data"
    }
   ],
   "source": [
    "sns.lineplot(data = building_schedule, y='occupancy_building_frac',x='hour')"
   ]
  },
  {
   "cell_type": "markdown",
   "id": "5aa14b34",
   "metadata": {},
   "source": [
    "### work stay: assign only to non-residential buildings based on capacity"
   ]
  },
  {
   "cell_type": "code",
   "execution_count": 229,
   "id": "9946d041",
   "metadata": {},
   "outputs": [
    {
     "name": "stdout",
     "output_type": "stream",
     "text": [
      "1424\n",
      "149.572807505106\n"
     ]
    },
    {
     "data": {
      "text/plain": [
       "count    1424.000000\n",
       "mean       68.388065\n",
       "std        34.558359\n",
       "min         5.187589\n",
       "25%        40.787800\n",
       "50%        68.334864\n",
       "75%        87.695845\n",
       "max       149.293314\n",
       "Name: capacity, dtype: float64"
      ]
     },
     "execution_count": 229,
     "metadata": {},
     "output_type": "execute_result"
    }
   ],
   "source": [
    "# industrial & commercial\n",
    "building_selected = building_cap[building_cap.BuildingClass!='Residential']\n",
    "print(len(np.unique(building_selected.ID)))\n",
    "cutoff = np.percentile(building_selected['capacity'], 90)\n",
    "print(cutoff)\n",
    "building_selected.loc[building_selected.capacity>=cutoff,'capacity'] = int(np.random.normal(building_selected.capacity.mean(), 5))\n",
    "building_selected.capacity.describe()"
   ]
  },
  {
   "cell_type": "code",
   "execution_count": 230,
   "id": "8a3697ad",
   "metadata": {},
   "outputs": [
    {
     "name": "stdout",
     "output_type": "stream",
     "text": [
      "Only one building of this type\n",
      "268\n"
     ]
    }
   ],
   "source": [
    "### Clustering\n",
    "building_selected = building_selected.groupby(['GEOID']).apply(hierarchical_clustering_ward)\n",
    "print(len(np.unique(building_selected.Cluster)))"
   ]
  },
  {
   "cell_type": "code",
   "execution_count": 231,
   "id": "635271a5",
   "metadata": {},
   "outputs": [
    {
     "name": "stdout",
     "output_type": "stream",
     "text": [
      "1424\n"
     ]
    },
    {
     "data": {
      "text/html": [
       "<div>\n",
       "<style scoped>\n",
       "    .dataframe tbody tr th:only-of-type {\n",
       "        vertical-align: middle;\n",
       "    }\n",
       "\n",
       "    .dataframe tbody tr th {\n",
       "        vertical-align: top;\n",
       "    }\n",
       "\n",
       "    .dataframe thead th {\n",
       "        text-align: right;\n",
       "    }\n",
       "</style>\n",
       "<table border=\"1\" class=\"dataframe\">\n",
       "  <thead>\n",
       "    <tr style=\"text-align: right;\">\n",
       "      <th></th>\n",
       "      <th>ID</th>\n",
       "      <th>GEOID</th>\n",
       "      <th>Area</th>\n",
       "      <th>latitude</th>\n",
       "      <th>longitude</th>\n",
       "      <th>capacity</th>\n",
       "      <th>BuildingClass</th>\n",
       "      <th>Cluster</th>\n",
       "      <th>capacity_Cluster</th>\n",
       "      <th>capacity_Tract</th>\n",
       "      <th>numerator</th>\n",
       "      <th>denominator</th>\n",
       "      <th>PCluster</th>\n",
       "      <th>PBuilding</th>\n",
       "    </tr>\n",
       "  </thead>\n",
       "  <tbody>\n",
       "    <tr>\n",
       "      <th>213</th>\n",
       "      <td>5007013251550</td>\n",
       "      <td>131210103091</td>\n",
       "      <td>3774.493443</td>\n",
       "      <td>33.63100734431461</td>\n",
       "      <td>-84.71990780186775</td>\n",
       "      <td>33.785390</td>\n",
       "      <td>Industrial</td>\n",
       "      <td>1</td>\n",
       "      <td>68.088339</td>\n",
       "      <td>16731.797974</td>\n",
       "      <td>0.063792</td>\n",
       "      <td>14.026676</td>\n",
       "      <td>0.004548</td>\n",
       "      <td>0.496199</td>\n",
       "    </tr>\n",
       "    <tr>\n",
       "      <th>216</th>\n",
       "      <td>5007013251579</td>\n",
       "      <td>131210103091</td>\n",
       "      <td>3832.315061</td>\n",
       "      <td>33.630713</td>\n",
       "      <td>-84.72021000000001</td>\n",
       "      <td>34.302949</td>\n",
       "      <td>Industrial</td>\n",
       "      <td>1</td>\n",
       "      <td>68.088339</td>\n",
       "      <td>16731.797974</td>\n",
       "      <td>0.063792</td>\n",
       "      <td>14.026676</td>\n",
       "      <td>0.004548</td>\n",
       "      <td>0.503801</td>\n",
       "    </tr>\n",
       "    <tr>\n",
       "      <th>578</th>\n",
       "      <td>5007013254115</td>\n",
       "      <td>131210103091</td>\n",
       "      <td>4831.500256</td>\n",
       "      <td>33.63184636974844</td>\n",
       "      <td>-84.720616181576</td>\n",
       "      <td>43.246629</td>\n",
       "      <td>Industrial</td>\n",
       "      <td>2</td>\n",
       "      <td>43.246629</td>\n",
       "      <td>16731.797974</td>\n",
       "      <td>0.050840</td>\n",
       "      <td>14.026676</td>\n",
       "      <td>0.003625</td>\n",
       "      <td>1.000000</td>\n",
       "    </tr>\n",
       "    <tr>\n",
       "      <th>985</th>\n",
       "      <td>5007013257045</td>\n",
       "      <td>131210103091</td>\n",
       "      <td>10694.291310</td>\n",
       "      <td>33.62906971438438</td>\n",
       "      <td>-84.72200437985286</td>\n",
       "      <td>95.724315</td>\n",
       "      <td>Industrial</td>\n",
       "      <td>3</td>\n",
       "      <td>95.724315</td>\n",
       "      <td>16731.797974</td>\n",
       "      <td>0.075638</td>\n",
       "      <td>14.026676</td>\n",
       "      <td>0.005392</td>\n",
       "      <td>1.000000</td>\n",
       "    </tr>\n",
       "    <tr>\n",
       "      <th>1012</th>\n",
       "      <td>5007013257225</td>\n",
       "      <td>131210103091</td>\n",
       "      <td>6661.273944</td>\n",
       "      <td>33.62994700000001</td>\n",
       "      <td>-84.7219025</td>\n",
       "      <td>49.395267</td>\n",
       "      <td>Commercial</td>\n",
       "      <td>4</td>\n",
       "      <td>49.395267</td>\n",
       "      <td>16731.797974</td>\n",
       "      <td>0.054334</td>\n",
       "      <td>14.026676</td>\n",
       "      <td>0.003874</td>\n",
       "      <td>1.000000</td>\n",
       "    </tr>\n",
       "  </tbody>\n",
       "</table>\n",
       "</div>"
      ],
      "text/plain": [
       "                 ID         GEOID          Area           latitude  \\\n",
       "213   5007013251550  131210103091   3774.493443  33.63100734431461   \n",
       "216   5007013251579  131210103091   3832.315061          33.630713   \n",
       "578   5007013254115  131210103091   4831.500256  33.63184636974844   \n",
       "985   5007013257045  131210103091  10694.291310  33.62906971438438   \n",
       "1012  5007013257225  131210103091   6661.273944  33.62994700000001   \n",
       "\n",
       "               longitude   capacity BuildingClass  Cluster  capacity_Cluster  \\\n",
       "213   -84.71990780186775  33.785390    Industrial        1         68.088339   \n",
       "216   -84.72021000000001  34.302949    Industrial        1         68.088339   \n",
       "578     -84.720616181576  43.246629    Industrial        2         43.246629   \n",
       "985   -84.72200437985286  95.724315    Industrial        3         95.724315   \n",
       "1012         -84.7219025  49.395267    Commercial        4         49.395267   \n",
       "\n",
       "      capacity_Tract  numerator  denominator  PCluster  PBuilding  \n",
       "213     16731.797974   0.063792    14.026676  0.004548   0.496199  \n",
       "216     16731.797974   0.063792    14.026676  0.004548   0.503801  \n",
       "578     16731.797974   0.050840    14.026676  0.003625   1.000000  \n",
       "985     16731.797974   0.075638    14.026676  0.005392   1.000000  \n",
       "1012    16731.797974   0.054334    14.026676  0.003874   1.000000  "
      ]
     },
     "execution_count": 231,
     "metadata": {},
     "output_type": "execute_result"
    }
   ],
   "source": [
    "### Assignment probability\n",
    "building_cluster = building_selected.groupby(['GEOID','Cluster']).agg({'capacity':'sum'}).reset_index().rename(columns={'capacity':'capacity_Cluster'})\n",
    "building_tract = building_cluster.groupby(['GEOID']).agg({'capacity_Cluster':'sum'}).reset_index().rename(columns={'capacity_Cluster':'capacity_Tract'})\n",
    "building_cluster = pd.merge(building_cluster,building_tract,how='left',on=['GEOID'])\n",
    "building_cluster['numerator'] = np.power(building_cluster['capacity_Cluster']/building_cluster['capacity_Tract'],mu)\n",
    "building_tract = building_cluster.groupby(['GEOID']).agg({'numerator':'sum'}).reset_index().rename(columns={'numerator':'denominator'})\n",
    "building_cluster = pd.merge(building_cluster,building_tract,how='left',on=['GEOID'])\n",
    "building_cluster['PCluster'] = building_cluster['numerator']/building_cluster['denominator']\n",
    "building_cluster.head(20)\n",
    "assign_model = pd.merge(building_selected,building_cluster,how='left',on=['GEOID','Cluster'])\n",
    "assign_model['PBuilding'] = assign_model['capacity']/assign_model['capacity_Cluster']\n",
    "assign_model = assign_model.sort_values(['GEOID','Cluster','ID'])\n",
    "print(len(assign_model))\n",
    "assign_model.head()"
   ]
  },
  {
   "cell_type": "code",
   "execution_count": 232,
   "id": "21c784a1",
   "metadata": {},
   "outputs": [
    {
     "name": "stdout",
     "output_type": "stream",
     "text": [
      "329\n",
      "1095\n"
     ]
    },
    {
     "data": {
      "text/html": [
       "<div>\n",
       "<style scoped>\n",
       "    .dataframe tbody tr th:only-of-type {\n",
       "        vertical-align: middle;\n",
       "    }\n",
       "\n",
       "    .dataframe tbody tr th {\n",
       "        vertical-align: top;\n",
       "    }\n",
       "\n",
       "    .dataframe thead th {\n",
       "        text-align: right;\n",
       "    }\n",
       "</style>\n",
       "<table border=\"1\" class=\"dataframe\">\n",
       "  <thead>\n",
       "    <tr style=\"text-align: right;\">\n",
       "      <th></th>\n",
       "      <th>ID</th>\n",
       "      <th>hour</th>\n",
       "      <th>GEOID</th>\n",
       "      <th>BuildingClass</th>\n",
       "      <th>capacity</th>\n",
       "      <th>PCluster</th>\n",
       "      <th>PBuilding</th>\n",
       "      <th>occupancy</th>\n",
       "      <th>stay_type</th>\n",
       "      <th>occupancy_building</th>\n",
       "      <th>occupancy_building_frac</th>\n",
       "    </tr>\n",
       "  </thead>\n",
       "  <tbody>\n",
       "    <tr>\n",
       "      <th>0</th>\n",
       "      <td>5007013188411</td>\n",
       "      <td>0</td>\n",
       "      <td>131210105402</td>\n",
       "      <td>Industrial</td>\n",
       "      <td>8.626163</td>\n",
       "      <td>0.025846</td>\n",
       "      <td>0.141901</td>\n",
       "      <td>59.639532</td>\n",
       "      <td>work</td>\n",
       "      <td>2.242669</td>\n",
       "      <td>0.259985</td>\n",
       "    </tr>\n",
       "    <tr>\n",
       "      <th>1</th>\n",
       "      <td>5007013188411</td>\n",
       "      <td>1</td>\n",
       "      <td>131210105402</td>\n",
       "      <td>Industrial</td>\n",
       "      <td>8.626163</td>\n",
       "      <td>0.025846</td>\n",
       "      <td>0.141901</td>\n",
       "      <td>47.163874</td>\n",
       "      <td>work</td>\n",
       "      <td>1.773538</td>\n",
       "      <td>0.205600</td>\n",
       "    </tr>\n",
       "    <tr>\n",
       "      <th>2</th>\n",
       "      <td>5007013188411</td>\n",
       "      <td>2</td>\n",
       "      <td>131210105402</td>\n",
       "      <td>Industrial</td>\n",
       "      <td>8.626163</td>\n",
       "      <td>0.025846</td>\n",
       "      <td>0.141901</td>\n",
       "      <td>24.327935</td>\n",
       "      <td>work</td>\n",
       "      <td>0.914821</td>\n",
       "      <td>0.106052</td>\n",
       "    </tr>\n",
       "    <tr>\n",
       "      <th>3</th>\n",
       "      <td>5007013188411</td>\n",
       "      <td>3</td>\n",
       "      <td>131210105402</td>\n",
       "      <td>Industrial</td>\n",
       "      <td>8.626163</td>\n",
       "      <td>0.025846</td>\n",
       "      <td>0.141901</td>\n",
       "      <td>70.833544</td>\n",
       "      <td>work</td>\n",
       "      <td>2.663606</td>\n",
       "      <td>0.308782</td>\n",
       "    </tr>\n",
       "    <tr>\n",
       "      <th>4</th>\n",
       "      <td>5007013188411</td>\n",
       "      <td>4</td>\n",
       "      <td>131210105402</td>\n",
       "      <td>Industrial</td>\n",
       "      <td>8.626163</td>\n",
       "      <td>0.025846</td>\n",
       "      <td>0.141901</td>\n",
       "      <td>124.659209</td>\n",
       "      <td>work</td>\n",
       "      <td>4.687653</td>\n",
       "      <td>0.543423</td>\n",
       "    </tr>\n",
       "  </tbody>\n",
       "</table>\n",
       "</div>"
      ],
      "text/plain": [
       "              ID  hour         GEOID BuildingClass  capacity  PCluster  \\\n",
       "0  5007013188411     0  131210105402    Industrial  8.626163  0.025846   \n",
       "1  5007013188411     1  131210105402    Industrial  8.626163  0.025846   \n",
       "2  5007013188411     2  131210105402    Industrial  8.626163  0.025846   \n",
       "3  5007013188411     3  131210105402    Industrial  8.626163  0.025846   \n",
       "4  5007013188411     4  131210105402    Industrial  8.626163  0.025846   \n",
       "\n",
       "   PBuilding   occupancy stay_type  occupancy_building  \\\n",
       "0   0.141901   59.639532      work            2.242669   \n",
       "1   0.141901   47.163874      work            1.773538   \n",
       "2   0.141901   24.327935      work            0.914821   \n",
       "3   0.141901   70.833544      work            2.663606   \n",
       "4   0.141901  124.659209      work            4.687653   \n",
       "\n",
       "   occupancy_building_frac  \n",
       "0                 0.259985  \n",
       "1                 0.205600  \n",
       "2                 0.106052  \n",
       "3                 0.308782  \n",
       "4                 0.543423  "
      ]
     },
     "execution_count": 232,
     "metadata": {},
     "output_type": "execute_result"
    }
   ],
   "source": [
    "bg_occupancy_selected = bg_occ[bg_occ.stay_type =='work']\n",
    "building_ID = np.unique(building_selected.ID)\n",
    "building_schedule = pd.DataFrame()\n",
    "building_schedule['ID'] = np.repeat(building_ID,24)\n",
    "building_schedule['hour'] = list(range(0,24))*len(building_ID)\n",
    "building_schedule = pd.merge(building_schedule,assign_model[['ID','GEOID','BuildingClass','capacity','PCluster','PBuilding']],how='left',on='ID')\n",
    "building_schedule = pd.merge(building_schedule,bg_occupancy_selected[['GEOID','hour','occupancy','stay_type']],\n",
    "                             how='left',on=['GEOID','hour'])\n",
    "building_schedule['occupancy'] = building_schedule['occupancy'].apply(fill_random)\n",
    "building_schedule['occupancy_building'] = building_schedule['occupancy'] * building_schedule['PCluster'] * building_schedule['PBuilding']\n",
    "# calibrate OD to building\n",
    "building_schedule['occupancy_building'] = building_schedule['occupancy_building']*clibration_od_building_work\n",
    "# need to examine how many caps\n",
    "building_schedule.loc[building_schedule['occupancy_building']>=building_schedule['capacity'],'occupancy_building'] = building_schedule.loc[building_schedule['occupancy_building']>=building_schedule['capacity'],'capacity']\n",
    "building_schedule['occupancy_building_frac'] = building_schedule['occupancy_building']/building_schedule['capacity']\n",
    "\n",
    "building_schedule_commercial = building_schedule[building_schedule.BuildingClass=='Commercial']\n",
    "print(len(set(building_schedule_commercial.ID)))\n",
    "building_schedule_industrial = building_schedule[building_schedule.BuildingClass=='Industrial']\n",
    "print(len(set(building_schedule_industrial.ID)))\n",
    "building_schedule_industrial.head()"
   ]
  },
  {
   "cell_type": "code",
   "execution_count": 233,
   "id": "73406011",
   "metadata": {},
   "outputs": [
    {
     "data": {
      "text/plain": [
       "<Axes: xlabel='hour', ylabel='occupancy_building_frac'>"
      ]
     },
     "execution_count": 233,
     "metadata": {},
     "output_type": "execute_result"
    },
    {
     "data": {
      "image/png": "[encoded data removed]",
      "text/plain": [
       "<Figure size 640x480 with 1 Axes>"
      ]
     },
     "metadata": {},
     "output_type": "display_data"
    }
   ],
   "source": [
    "sns.lineplot(data = building_schedule_industrial, y='occupancy_building_frac',x='hour',hue='BuildingClass')"
   ]
  },
  {
   "cell_type": "markdown",
   "id": "7a914d6a",
   "metadata": {},
   "source": [
    "### other stay: assign only to commercial buildings based on capacity"
   ]
  },
  {
   "cell_type": "code",
   "execution_count": 234,
   "id": "b24ca5d6",
   "metadata": {},
   "outputs": [
    {
     "name": "stdout",
     "output_type": "stream",
     "text": [
      "329\n",
      "149.53903164457452\n"
     ]
    },
    {
     "data": {
      "text/plain": [
       "count    329.000000\n",
       "mean      69.903831\n",
       "std       33.672350\n",
       "min        5.187589\n",
       "25%       43.557507\n",
       "50%       69.252772\n",
       "75%       90.000000\n",
       "max      149.095971\n",
       "Name: capacity, dtype: float64"
      ]
     },
     "execution_count": 234,
     "metadata": {},
     "output_type": "execute_result"
    }
   ],
   "source": [
    "# commercial\n",
    "building_selected = building_cap[building_cap.BuildingClass=='Commercial']\n",
    "print(len(np.unique(building_selected.ID)))\n",
    "cutoff = np.percentile(building_selected['capacity'], 90)\n",
    "print(cutoff)\n",
    "building_selected.loc[building_selected.capacity>=cutoff,'capacity'] = int(np.random.normal(building_selected.capacity.mean(), 5))\n",
    "building_selected.capacity.describe()"
   ]
  },
  {
   "cell_type": "code",
   "execution_count": 235,
   "id": "9580a74c",
   "metadata": {},
   "outputs": [
    {
     "name": "stdout",
     "output_type": "stream",
     "text": [
      "Only one building of this type\n",
      "Only one building of this type\n",
      "61\n"
     ]
    }
   ],
   "source": [
    "### Clustering -> too few commercial buildings can apply this method\n",
    "building_selected = building_selected.groupby(['GEOID']).apply(hierarchical_clustering_ward)\n",
    "print(len(np.unique(building_selected.Cluster)))"
   ]
  },
  {
   "cell_type": "code",
   "execution_count": 236,
   "id": "ccad29f8",
   "metadata": {},
   "outputs": [
    {
     "name": "stdout",
     "output_type": "stream",
     "text": [
      "329\n"
     ]
    },
    {
     "data": {
      "text/html": [
       "<div>\n",
       "<style scoped>\n",
       "    .dataframe tbody tr th:only-of-type {\n",
       "        vertical-align: middle;\n",
       "    }\n",
       "\n",
       "    .dataframe tbody tr th {\n",
       "        vertical-align: top;\n",
       "    }\n",
       "\n",
       "    .dataframe thead th {\n",
       "        text-align: right;\n",
       "    }\n",
       "</style>\n",
       "<table border=\"1\" class=\"dataframe\">\n",
       "  <thead>\n",
       "    <tr style=\"text-align: right;\">\n",
       "      <th></th>\n",
       "      <th>ID</th>\n",
       "      <th>GEOID</th>\n",
       "      <th>Area</th>\n",
       "      <th>latitude</th>\n",
       "      <th>longitude</th>\n",
       "      <th>capacity</th>\n",
       "      <th>BuildingClass</th>\n",
       "      <th>Cluster</th>\n",
       "      <th>capacity_Cluster</th>\n",
       "      <th>capacity_Tract</th>\n",
       "      <th>numerator</th>\n",
       "      <th>denominator</th>\n",
       "      <th>PCluster</th>\n",
       "      <th>PBuilding</th>\n",
       "    </tr>\n",
       "  </thead>\n",
       "  <tbody>\n",
       "    <tr>\n",
       "      <th>60</th>\n",
       "      <td>5007013251888</td>\n",
       "      <td>131210103091</td>\n",
       "      <td>8220.857028</td>\n",
       "      <td>33.629665251736114</td>\n",
       "      <td>-84.66272304861111</td>\n",
       "      <td>60.960025</td>\n",
       "      <td>Commercial</td>\n",
       "      <td>1</td>\n",
       "      <td>106.745676</td>\n",
       "      <td>3659.434704</td>\n",
       "      <td>0.170792</td>\n",
       "      <td>6.47445</td>\n",
       "      <td>0.026379</td>\n",
       "      <td>0.571077</td>\n",
       "    </tr>\n",
       "    <tr>\n",
       "      <th>102</th>\n",
       "      <td>5007013252987</td>\n",
       "      <td>131210103091</td>\n",
       "      <td>6174.493837</td>\n",
       "      <td>33.63010129129111</td>\n",
       "      <td>-84.6625815349476</td>\n",
       "      <td>45.785652</td>\n",
       "      <td>Commercial</td>\n",
       "      <td>1</td>\n",
       "      <td>106.745676</td>\n",
       "      <td>3659.434704</td>\n",
       "      <td>0.170792</td>\n",
       "      <td>6.47445</td>\n",
       "      <td>0.026379</td>\n",
       "      <td>0.428923</td>\n",
       "    </tr>\n",
       "    <tr>\n",
       "      <th>99</th>\n",
       "      <td>5007013252915</td>\n",
       "      <td>131210103091</td>\n",
       "      <td>14634.765403</td>\n",
       "      <td>33.6274565</td>\n",
       "      <td>-84.660871</td>\n",
       "      <td>108.521004</td>\n",
       "      <td>Commercial</td>\n",
       "      <td>2</td>\n",
       "      <td>166.168579</td>\n",
       "      <td>3659.434704</td>\n",
       "      <td>0.213092</td>\n",
       "      <td>6.47445</td>\n",
       "      <td>0.032913</td>\n",
       "      <td>0.653078</td>\n",
       "    </tr>\n",
       "    <tr>\n",
       "      <th>199</th>\n",
       "      <td>5007013256444</td>\n",
       "      <td>131210103091</td>\n",
       "      <td>7774.151547</td>\n",
       "      <td>33.6282279905809</td>\n",
       "      <td>-84.66151682410013</td>\n",
       "      <td>57.647575</td>\n",
       "      <td>Commercial</td>\n",
       "      <td>2</td>\n",
       "      <td>166.168579</td>\n",
       "      <td>3659.434704</td>\n",
       "      <td>0.213092</td>\n",
       "      <td>6.47445</td>\n",
       "      <td>0.032913</td>\n",
       "      <td>0.346922</td>\n",
       "    </tr>\n",
       "    <tr>\n",
       "      <th>159</th>\n",
       "      <td>5007013255096</td>\n",
       "      <td>131210103091</td>\n",
       "      <td>7909.971772</td>\n",
       "      <td>33.62610600855035</td>\n",
       "      <td>-84.66327382301591</td>\n",
       "      <td>58.654721</td>\n",
       "      <td>Commercial</td>\n",
       "      <td>3</td>\n",
       "      <td>58.654721</td>\n",
       "      <td>3659.434704</td>\n",
       "      <td>0.126603</td>\n",
       "      <td>6.47445</td>\n",
       "      <td>0.019554</td>\n",
       "      <td>1.000000</td>\n",
       "    </tr>\n",
       "  </tbody>\n",
       "</table>\n",
       "</div>"
      ],
      "text/plain": [
       "                ID         GEOID          Area            latitude  \\\n",
       "60   5007013251888  131210103091   8220.857028  33.629665251736114   \n",
       "102  5007013252987  131210103091   6174.493837   33.63010129129111   \n",
       "99   5007013252915  131210103091  14634.765403          33.6274565   \n",
       "199  5007013256444  131210103091   7774.151547    33.6282279905809   \n",
       "159  5007013255096  131210103091   7909.971772   33.62610600855035   \n",
       "\n",
       "              longitude    capacity BuildingClass  Cluster  capacity_Cluster  \\\n",
       "60   -84.66272304861111   60.960025    Commercial        1        106.745676   \n",
       "102   -84.6625815349476   45.785652    Commercial        1        106.745676   \n",
       "99           -84.660871  108.521004    Commercial        2        166.168579   \n",
       "199  -84.66151682410013   57.647575    Commercial        2        166.168579   \n",
       "159  -84.66327382301591   58.654721    Commercial        3         58.654721   \n",
       "\n",
       "     capacity_Tract  numerator  denominator  PCluster  PBuilding  \n",
       "60      3659.434704   0.170792      6.47445  0.026379   0.571077  \n",
       "102     3659.434704   0.170792      6.47445  0.026379   0.428923  \n",
       "99      3659.434704   0.213092      6.47445  0.032913   0.653078  \n",
       "199     3659.434704   0.213092      6.47445  0.032913   0.346922  \n",
       "159     3659.434704   0.126603      6.47445  0.019554   1.000000  "
      ]
     },
     "execution_count": 236,
     "metadata": {},
     "output_type": "execute_result"
    }
   ],
   "source": [
    "### Assignment probability\n",
    "building_cluster = building_selected.groupby(['GEOID','Cluster']).agg({'capacity':'sum'}).reset_index().rename(columns={'capacity':'capacity_Cluster'})\n",
    "building_tract = building_cluster.groupby(['GEOID']).agg({'capacity_Cluster':'sum'}).reset_index().rename(columns={'capacity_Cluster':'capacity_Tract'})\n",
    "building_cluster = pd.merge(building_cluster,building_tract,how='left',on=['GEOID'])\n",
    "building_cluster['numerator'] = np.power(building_cluster['capacity_Cluster']/building_cluster['capacity_Tract'],mu)\n",
    "building_tract = building_cluster.groupby(['GEOID']).agg({'numerator':'sum'}).reset_index().rename(columns={'numerator':'denominator'})\n",
    "building_cluster = pd.merge(building_cluster,building_tract,how='left',on=['GEOID'])\n",
    "building_cluster['PCluster'] = building_cluster['numerator']/building_cluster['denominator']\n",
    "building_cluster.head(20)\n",
    "assign_model = pd.merge(building_selected,building_cluster,how='left',on=['GEOID','Cluster'])\n",
    "assign_model['PBuilding'] = assign_model['capacity']/assign_model['capacity_Cluster']\n",
    "assign_model = assign_model.sort_values(['GEOID','Cluster','ID'])\n",
    "print(len(assign_model))\n",
    "assign_model.head()"
   ]
  },
  {
   "cell_type": "code",
   "execution_count": 237,
   "id": "fdc0f488",
   "metadata": {},
   "outputs": [
    {
     "data": {
      "text/plain": [
       "{'other'}"
      ]
     },
     "execution_count": 237,
     "metadata": {},
     "output_type": "execute_result"
    }
   ],
   "source": [
    "bg_occupancy_selected = bg_occ[bg_occ.stay_type =='other']\n",
    "building_ID = np.unique(building_selected.ID)\n",
    "building_schedule = pd.DataFrame()\n",
    "building_schedule['ID'] = np.repeat(building_ID,24)\n",
    "building_schedule['hour'] = list(range(0,24))*len(building_ID)\n",
    "building_schedule = pd.merge(building_schedule,assign_model[['ID','GEOID','BuildingClass','capacity','PCluster','PBuilding']],\n",
    "                             how='left',on='ID')\n",
    "building_schedule = pd.merge(building_schedule,bg_occupancy_selected[['GEOID','hour','occupancy','stay_type']],\n",
    "                             how='left',on=['GEOID','hour'])\n",
    "building_schedule['occupancy'] = building_schedule['occupancy'].apply(fill_random)\n",
    "building_schedule['occupancy_building'] = building_schedule['occupancy'] * building_schedule['PCluster'] * building_schedule['PBuilding']\n",
    "\n",
    "# calibrate OD to building\n",
    "building_schedule['occupancy_building'] = building_schedule['occupancy_building']*clibration_od_building_other\n",
    "set(building_schedule.stay_type)"
   ]
  },
  {
   "cell_type": "code",
   "execution_count": 238,
   "id": "26e28751",
   "metadata": {},
   "outputs": [
    {
     "name": "stdout",
     "output_type": "stream",
     "text": [
      "7896\n",
      "7896\n",
      "329\n",
      "{'other'}\n"
     ]
    },
    {
     "data": {
      "text/html": [
       "<div>\n",
       "<style scoped>\n",
       "    .dataframe tbody tr th:only-of-type {\n",
       "        vertical-align: middle;\n",
       "    }\n",
       "\n",
       "    .dataframe tbody tr th {\n",
       "        vertical-align: top;\n",
       "    }\n",
       "\n",
       "    .dataframe thead th {\n",
       "        text-align: right;\n",
       "    }\n",
       "</style>\n",
       "<table border=\"1\" class=\"dataframe\">\n",
       "  <thead>\n",
       "    <tr style=\"text-align: right;\">\n",
       "      <th></th>\n",
       "      <th>ID</th>\n",
       "      <th>hour</th>\n",
       "      <th>GEOID</th>\n",
       "      <th>BuildingClass</th>\n",
       "      <th>capacity</th>\n",
       "      <th>PCluster</th>\n",
       "      <th>PBuilding</th>\n",
       "      <th>occupancy</th>\n",
       "      <th>stay_type</th>\n",
       "      <th>occupancy_building_x</th>\n",
       "      <th>occupancy_building_y</th>\n",
       "      <th>occupancy_building</th>\n",
       "      <th>occupancy_building_frac</th>\n",
       "    </tr>\n",
       "  </thead>\n",
       "  <tbody>\n",
       "    <tr>\n",
       "      <th>0</th>\n",
       "      <td>5007013188493</td>\n",
       "      <td>0</td>\n",
       "      <td>131210105203</td>\n",
       "      <td>Commercial</td>\n",
       "      <td>7.374305</td>\n",
       "      <td>0.053388</td>\n",
       "      <td>0.394171</td>\n",
       "      <td>64.208762</td>\n",
       "      <td>other</td>\n",
       "      <td>3.885153</td>\n",
       "      <td>2.442443</td>\n",
       "      <td>6.327596</td>\n",
       "      <td>0.858060</td>\n",
       "    </tr>\n",
       "    <tr>\n",
       "      <th>1</th>\n",
       "      <td>5007013188493</td>\n",
       "      <td>1</td>\n",
       "      <td>131210105203</td>\n",
       "      <td>Commercial</td>\n",
       "      <td>7.374305</td>\n",
       "      <td>0.053388</td>\n",
       "      <td>0.394171</td>\n",
       "      <td>40.509624</td>\n",
       "      <td>other</td>\n",
       "      <td>2.451162</td>\n",
       "      <td>1.979443</td>\n",
       "      <td>4.430605</td>\n",
       "      <td>0.600817</td>\n",
       "    </tr>\n",
       "    <tr>\n",
       "      <th>2</th>\n",
       "      <td>5007013188493</td>\n",
       "      <td>2</td>\n",
       "      <td>131210105203</td>\n",
       "      <td>Commercial</td>\n",
       "      <td>7.374305</td>\n",
       "      <td>0.053388</td>\n",
       "      <td>0.394171</td>\n",
       "      <td>14.845733</td>\n",
       "      <td>other</td>\n",
       "      <td>0.898288</td>\n",
       "      <td>0.830948</td>\n",
       "      <td>1.729236</td>\n",
       "      <td>0.234495</td>\n",
       "    </tr>\n",
       "    <tr>\n",
       "      <th>3</th>\n",
       "      <td>5007013188493</td>\n",
       "      <td>3</td>\n",
       "      <td>131210105203</td>\n",
       "      <td>Commercial</td>\n",
       "      <td>7.374305</td>\n",
       "      <td>0.053388</td>\n",
       "      <td>0.394171</td>\n",
       "      <td>29.500876</td>\n",
       "      <td>other</td>\n",
       "      <td>1.785043</td>\n",
       "      <td>1.119008</td>\n",
       "      <td>2.904051</td>\n",
       "      <td>0.393807</td>\n",
       "    </tr>\n",
       "    <tr>\n",
       "      <th>4</th>\n",
       "      <td>5007013188493</td>\n",
       "      <td>4</td>\n",
       "      <td>131210105203</td>\n",
       "      <td>Commercial</td>\n",
       "      <td>7.374305</td>\n",
       "      <td>0.053388</td>\n",
       "      <td>0.394171</td>\n",
       "      <td>65.231291</td>\n",
       "      <td>other</td>\n",
       "      <td>3.947024</td>\n",
       "      <td>7.374305</td>\n",
       "      <td>7.374305</td>\n",
       "      <td>1.000000</td>\n",
       "    </tr>\n",
       "  </tbody>\n",
       "</table>\n",
       "</div>"
      ],
      "text/plain": [
       "              ID  hour         GEOID BuildingClass  capacity  PCluster  \\\n",
       "0  5007013188493     0  131210105203    Commercial  7.374305  0.053388   \n",
       "1  5007013188493     1  131210105203    Commercial  7.374305  0.053388   \n",
       "2  5007013188493     2  131210105203    Commercial  7.374305  0.053388   \n",
       "3  5007013188493     3  131210105203    Commercial  7.374305  0.053388   \n",
       "4  5007013188493     4  131210105203    Commercial  7.374305  0.053388   \n",
       "\n",
       "   PBuilding  occupancy stay_type  occupancy_building_x  occupancy_building_y  \\\n",
       "0   0.394171  64.208762     other              3.885153              2.442443   \n",
       "1   0.394171  40.509624     other              2.451162              1.979443   \n",
       "2   0.394171  14.845733     other              0.898288              0.830948   \n",
       "3   0.394171  29.500876     other              1.785043              1.119008   \n",
       "4   0.394171  65.231291     other              3.947024              7.374305   \n",
       "\n",
       "   occupancy_building  occupancy_building_frac  \n",
       "0            6.327596                 0.858060  \n",
       "1            4.430605                 0.600817  \n",
       "2            1.729236                 0.234495  \n",
       "3            2.904051                 0.393807  \n",
       "4            7.374305                 1.000000  "
      ]
     },
     "execution_count": 238,
     "metadata": {},
     "output_type": "execute_result"
    }
   ],
   "source": [
    "# Combine two types of buildings together\n",
    "print(len(building_schedule))\n",
    "building_schedule = pd.merge(building_schedule,\n",
    "                             building_schedule_commercial[['ID','hour','occupancy_building']],\n",
    "                             on=['ID','hour'],how='left')\n",
    "print(len(building_schedule))\n",
    "print(len(np.unique(building_schedule.ID)))\n",
    "# building_schedule['occupancy_building_x'] = building_schedule['occupancy_building_x'].fillna(0)\n",
    "building_schedule['occupancy_building_y'] = building_schedule['occupancy_building_y'].fillna(0)\n",
    "building_schedule['occupancy_building'] = (building_schedule['occupancy_building_x']+building_schedule['occupancy_building_y'])\n",
    "\n",
    "# need to examine how many caps\n",
    "building_schedule.loc[building_schedule['occupancy_building']>=building_schedule['capacity'],'occupancy_building'] = building_schedule.loc[building_schedule['occupancy_building']>=building_schedule['capacity'],'capacity']\n",
    "building_schedule['occupancy_building_frac'] = building_schedule['occupancy_building']/building_schedule['capacity']\n",
    "building_schedule = building_schedule.sort_values(['ID','hour'])\n",
    "print(set(building_schedule.stay_type))\n",
    "building_schedule.head()"
   ]
  },
  {
   "cell_type": "code",
   "execution_count": 239,
   "id": "812b7f32",
   "metadata": {},
   "outputs": [
    {
     "data": {
      "text/html": [
       "<div>\n",
       "<style scoped>\n",
       "    .dataframe tbody tr th:only-of-type {\n",
       "        vertical-align: middle;\n",
       "    }\n",
       "\n",
       "    .dataframe tbody tr th {\n",
       "        vertical-align: top;\n",
       "    }\n",
       "\n",
       "    .dataframe thead th {\n",
       "        text-align: right;\n",
       "    }\n",
       "</style>\n",
       "<table border=\"1\" class=\"dataframe\">\n",
       "  <thead>\n",
       "    <tr style=\"text-align: right;\">\n",
       "      <th></th>\n",
       "      <th>ID</th>\n",
       "      <th>hour</th>\n",
       "      <th>GEOID</th>\n",
       "      <th>BuildingClass</th>\n",
       "      <th>capacity</th>\n",
       "      <th>PBuilding</th>\n",
       "      <th>PCluster</th>\n",
       "      <th>occupancy</th>\n",
       "      <th>stay_type</th>\n",
       "      <th>occupancy_building</th>\n",
       "      <th>occupancy_building_frac</th>\n",
       "    </tr>\n",
       "  </thead>\n",
       "  <tbody>\n",
       "    <tr>\n",
       "      <th>0</th>\n",
       "      <td>5007013188493</td>\n",
       "      <td>0</td>\n",
       "      <td>131210105203</td>\n",
       "      <td>Commercial</td>\n",
       "      <td>7.374305</td>\n",
       "      <td>0.394171</td>\n",
       "      <td>0.053388</td>\n",
       "      <td>64.208762</td>\n",
       "      <td>other</td>\n",
       "      <td>6.327596</td>\n",
       "      <td>0.858060</td>\n",
       "    </tr>\n",
       "    <tr>\n",
       "      <th>1</th>\n",
       "      <td>5007013188493</td>\n",
       "      <td>1</td>\n",
       "      <td>131210105203</td>\n",
       "      <td>Commercial</td>\n",
       "      <td>7.374305</td>\n",
       "      <td>0.394171</td>\n",
       "      <td>0.053388</td>\n",
       "      <td>40.509624</td>\n",
       "      <td>other</td>\n",
       "      <td>4.430605</td>\n",
       "      <td>0.600817</td>\n",
       "    </tr>\n",
       "    <tr>\n",
       "      <th>2</th>\n",
       "      <td>5007013188493</td>\n",
       "      <td>2</td>\n",
       "      <td>131210105203</td>\n",
       "      <td>Commercial</td>\n",
       "      <td>7.374305</td>\n",
       "      <td>0.394171</td>\n",
       "      <td>0.053388</td>\n",
       "      <td>14.845733</td>\n",
       "      <td>other</td>\n",
       "      <td>1.729236</td>\n",
       "      <td>0.234495</td>\n",
       "    </tr>\n",
       "    <tr>\n",
       "      <th>3</th>\n",
       "      <td>5007013188493</td>\n",
       "      <td>3</td>\n",
       "      <td>131210105203</td>\n",
       "      <td>Commercial</td>\n",
       "      <td>7.374305</td>\n",
       "      <td>0.394171</td>\n",
       "      <td>0.053388</td>\n",
       "      <td>29.500876</td>\n",
       "      <td>other</td>\n",
       "      <td>2.904051</td>\n",
       "      <td>0.393807</td>\n",
       "    </tr>\n",
       "    <tr>\n",
       "      <th>4</th>\n",
       "      <td>5007013188493</td>\n",
       "      <td>4</td>\n",
       "      <td>131210105203</td>\n",
       "      <td>Commercial</td>\n",
       "      <td>7.374305</td>\n",
       "      <td>0.394171</td>\n",
       "      <td>0.053388</td>\n",
       "      <td>65.231291</td>\n",
       "      <td>other</td>\n",
       "      <td>7.374305</td>\n",
       "      <td>1.000000</td>\n",
       "    </tr>\n",
       "  </tbody>\n",
       "</table>\n",
       "</div>"
      ],
      "text/plain": [
       "              ID  hour         GEOID BuildingClass  capacity  PBuilding  \\\n",
       "0  5007013188493     0  131210105203    Commercial  7.374305   0.394171   \n",
       "1  5007013188493     1  131210105203    Commercial  7.374305   0.394171   \n",
       "2  5007013188493     2  131210105203    Commercial  7.374305   0.394171   \n",
       "3  5007013188493     3  131210105203    Commercial  7.374305   0.394171   \n",
       "4  5007013188493     4  131210105203    Commercial  7.374305   0.394171   \n",
       "\n",
       "   PCluster  occupancy stay_type  occupancy_building  occupancy_building_frac  \n",
       "0  0.053388  64.208762     other            6.327596                 0.858060  \n",
       "1  0.053388  40.509624     other            4.430605                 0.600817  \n",
       "2  0.053388  14.845733     other            1.729236                 0.234495  \n",
       "3  0.053388  29.500876     other            2.904051                 0.393807  \n",
       "4  0.053388  65.231291     other            7.374305                 1.000000  "
      ]
     },
     "execution_count": 239,
     "metadata": {},
     "output_type": "execute_result"
    }
   ],
   "source": [
    "building_schedule_commercial = building_schedule[building_schedule_residential.columns]\n",
    "building_schedule_commercial = building_schedule_commercial.sort_values(['ID','hour'])\n",
    "building_schedule_commercial.head()"
   ]
  },
  {
   "cell_type": "code",
   "execution_count": 240,
   "id": "2bb10fab",
   "metadata": {},
   "outputs": [
    {
     "data": {
      "text/plain": [
       "<Axes: xlabel='hour', ylabel='occupancy_building_frac'>"
      ]
     },
     "execution_count": 240,
     "metadata": {},
     "output_type": "execute_result"
    },
    {
     "data": {
      "image/png": "[encoded data removed]",
      "text/plain": [
       "<Figure size 640x480 with 1 Axes>"
      ]
     },
     "metadata": {},
     "output_type": "display_data"
    }
   ],
   "source": [
    "sns.lineplot(data = building_schedule_commercial, y='occupancy_building_frac',x='hour',hue='BuildingClass')"
   ]
  },
  {
   "cell_type": "markdown",
   "id": "410ed7f7",
   "metadata": {},
   "source": [
    "# summary plot"
   ]
  },
  {
   "cell_type": "code",
   "execution_count": 241,
   "id": "d8e1425f",
   "metadata": {},
   "outputs": [
    {
     "data": {
      "text/html": [
       "<div>\n",
       "<style scoped>\n",
       "    .dataframe tbody tr th:only-of-type {\n",
       "        vertical-align: middle;\n",
       "    }\n",
       "\n",
       "    .dataframe tbody tr th {\n",
       "        vertical-align: top;\n",
       "    }\n",
       "\n",
       "    .dataframe thead th {\n",
       "        text-align: right;\n",
       "    }\n",
       "</style>\n",
       "<table border=\"1\" class=\"dataframe\">\n",
       "  <thead>\n",
       "    <tr style=\"text-align: right;\">\n",
       "      <th></th>\n",
       "      <th>ID</th>\n",
       "      <th>hour</th>\n",
       "      <th>GEOID</th>\n",
       "      <th>BuildingClass</th>\n",
       "      <th>capacity</th>\n",
       "      <th>PBuilding</th>\n",
       "      <th>PCluster</th>\n",
       "      <th>occupancy</th>\n",
       "      <th>stay_type</th>\n",
       "      <th>occupancy_building</th>\n",
       "      <th>occupancy_building_frac</th>\n",
       "    </tr>\n",
       "  </thead>\n",
       "  <tbody>\n",
       "    <tr>\n",
       "      <th>0</th>\n",
       "      <td>5007013188323</td>\n",
       "      <td>0</td>\n",
       "      <td>131210103091</td>\n",
       "      <td>Residential</td>\n",
       "      <td>28.0</td>\n",
       "      <td>1.0</td>\n",
       "      <td>0.004789</td>\n",
       "      <td>1190.077667</td>\n",
       "      <td>home</td>\n",
       "      <td>21.535513</td>\n",
       "      <td>0.769125</td>\n",
       "    </tr>\n",
       "    <tr>\n",
       "      <th>1</th>\n",
       "      <td>5007013188323</td>\n",
       "      <td>1</td>\n",
       "      <td>131210103091</td>\n",
       "      <td>Residential</td>\n",
       "      <td>28.0</td>\n",
       "      <td>1.0</td>\n",
       "      <td>0.004789</td>\n",
       "      <td>1209.836604</td>\n",
       "      <td>home</td>\n",
       "      <td>21.893069</td>\n",
       "      <td>0.781895</td>\n",
       "    </tr>\n",
       "    <tr>\n",
       "      <th>2</th>\n",
       "      <td>5007013188323</td>\n",
       "      <td>2</td>\n",
       "      <td>131210103091</td>\n",
       "      <td>Residential</td>\n",
       "      <td>28.0</td>\n",
       "      <td>1.0</td>\n",
       "      <td>0.004789</td>\n",
       "      <td>1242.175790</td>\n",
       "      <td>home</td>\n",
       "      <td>22.478275</td>\n",
       "      <td>0.802796</td>\n",
       "    </tr>\n",
       "    <tr>\n",
       "      <th>3</th>\n",
       "      <td>5007013188323</td>\n",
       "      <td>3</td>\n",
       "      <td>131210103091</td>\n",
       "      <td>Residential</td>\n",
       "      <td>28.0</td>\n",
       "      <td>1.0</td>\n",
       "      <td>0.004789</td>\n",
       "      <td>1256.487479</td>\n",
       "      <td>home</td>\n",
       "      <td>22.737258</td>\n",
       "      <td>0.812045</td>\n",
       "    </tr>\n",
       "    <tr>\n",
       "      <th>4</th>\n",
       "      <td>5007013188323</td>\n",
       "      <td>4</td>\n",
       "      <td>131210103091</td>\n",
       "      <td>Residential</td>\n",
       "      <td>28.0</td>\n",
       "      <td>1.0</td>\n",
       "      <td>0.004789</td>\n",
       "      <td>1226.186884</td>\n",
       "      <td>home</td>\n",
       "      <td>22.188942</td>\n",
       "      <td>0.792462</td>\n",
       "    </tr>\n",
       "  </tbody>\n",
       "</table>\n",
       "</div>"
      ],
      "text/plain": [
       "              ID  hour         GEOID BuildingClass  capacity  PBuilding  \\\n",
       "0  5007013188323     0  131210103091   Residential      28.0        1.0   \n",
       "1  5007013188323     1  131210103091   Residential      28.0        1.0   \n",
       "2  5007013188323     2  131210103091   Residential      28.0        1.0   \n",
       "3  5007013188323     3  131210103091   Residential      28.0        1.0   \n",
       "4  5007013188323     4  131210103091   Residential      28.0        1.0   \n",
       "\n",
       "   PCluster    occupancy stay_type  occupancy_building  \\\n",
       "0  0.004789  1190.077667      home           21.535513   \n",
       "1  0.004789  1209.836604      home           21.893069   \n",
       "2  0.004789  1242.175790      home           22.478275   \n",
       "3  0.004789  1256.487479      home           22.737258   \n",
       "4  0.004789  1226.186884      home           22.188942   \n",
       "\n",
       "   occupancy_building_frac  \n",
       "0                 0.769125  \n",
       "1                 0.781895  \n",
       "2                 0.802796  \n",
       "3                 0.812045  \n",
       "4                 0.792462  "
      ]
     },
     "execution_count": 241,
     "metadata": {},
     "output_type": "execute_result"
    }
   ],
   "source": [
    "building_schedule_all = pd.concat([building_schedule_residential,building_schedule_commercial,building_schedule_industrial])\n",
    "building_schedule_all = building_schedule_all.reset_index(drop=True)\n",
    "building_schedule_all.BuildingClass = building_schedule_all.BuildingClass.astype(\"category\")\n",
    "building_schedule_all.BuildingClass= building_schedule_all.BuildingClass.cat.set_categories(['Residential','Industrial','Commercial'])\n",
    "building_schedule_all.head()"
   ]
  },
  {
   "cell_type": "markdown",
   "id": "eb09841c",
   "metadata": {},
   "source": [
    "# Write files"
   ]
  },
  {
   "cell_type": "code",
   "execution_count": 242,
   "id": "40a3bfd0",
   "metadata": {},
   "outputs": [],
   "source": [
    "building_schedule_all['stay_type'] = building_schedule_all['stay_type'].astype('bytes')\n",
    "# building_schedule_all.to_feather(data_dir+'Buildings/Schedule/100BG_'+od_file+'.feather')\n",
    "building_schedule_all.to_feather(data_dir+'Buildings/Schedule/Rural_'+od_file+'.feather')"
   ]
  },
  {
   "cell_type": "code",
   "execution_count": 243,
   "id": "103802b0",
   "metadata": {},
   "outputs": [
    {
     "data": {
      "text/plain": [
       "count    64824.000000\n",
       "mean         0.365809\n",
       "std          0.357363\n",
       "min          0.000007\n",
       "25%          0.073558\n",
       "50%          0.229843\n",
       "75%          0.568106\n",
       "max          1.000000\n",
       "Name: occupancy_building_frac, dtype: float64"
      ]
     },
     "execution_count": 243,
     "metadata": {},
     "output_type": "execute_result"
    }
   ],
   "source": [
    "building_schedule_all.occupancy_building_frac.describe()"
   ]
  },
  {
   "cell_type": "code",
   "execution_count": 244,
   "id": "fb96720c",
   "metadata": {},
   "outputs": [
    {
     "data": {
      "text/plain": [
       "(0.0, 1.1)"
      ]
     },
     "execution_count": 244,
     "metadata": {},
     "output_type": "execute_result"
    },
    {
     "data": {
      "image/png": "[encoded data removed]",
      "text/plain": [
       "<Figure size 640x480 with 1 Axes>"
      ]
     },
     "metadata": {},
     "output_type": "display_data"
    }
   ],
   "source": [
    "sns.lineplot(data = building_schedule_all,x='hour', y='occupancy_building_frac',hue='BuildingClass')\n",
    "plt.legend(loc='upper center', bbox_to_anchor=(0.5, 1.12), ncol=3)\n",
    "plt.ylabel('occupancy/capacity (%)')\n",
    "plt.ylim(0,1.1)"
   ]
  },
  {
   "cell_type": "markdown",
   "id": "8e0ff812",
   "metadata": {},
   "source": [
    "# All season"
   ]
  },
  {
   "cell_type": "code",
   "execution_count": 245,
   "id": "35afd4cd",
   "metadata": {},
   "outputs": [],
   "source": [
    "# all_season = pd.DataFrame()\n",
    "# for od_file in ['default','summer','winter']:\n",
    "#     tmp = pd.read_feather(data_dir+'Buildings/Schedule/100BG_'+od_file+'.feather')\n",
    "#     tmp['season'] = od_file\n",
    "#     all_season = pd.concat([all_season,tmp])\n",
    "# sns.lineplot(data = all_season,x='hour', y='occupancy_building_frac',hue='season')\n",
    "# plt.legend(loc='upper center', bbox_to_anchor=(0.5, 1.12), ncol=3)\n",
    "# plt.ylabel('occupancy/capacity (%)')\n",
    "# plt.ylim(0,1.1)"
   ]
  }
 ],
 "metadata": {
  "kernelspec": {
   "display_name": "Python 3 (ipykernel)",
   "language": "python",
   "name": "python3"
  },
  "language_info": {
   "codemirror_mode": {
    "name": "ipython",
    "version": 3
   },
   "file_extension": ".py",
   "mimetype": "text/x-python",
   "name": "python",
   "nbconvert_exporter": "python",
   "pygments_lexer": "ipython3",
   "version": "3.9.17"
  }
 },
 "nbformat": 4,
 "nbformat_minor": 5
}
