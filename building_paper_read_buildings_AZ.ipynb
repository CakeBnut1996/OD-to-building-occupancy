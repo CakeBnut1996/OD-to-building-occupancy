{
 "cells": [
  {
   "cell_type": "code",
   "execution_count": 1,
   "id": "43f1f58b",
   "metadata": {},
   "outputs": [],
   "source": [
    "import pandas as pd\n",
    "import geopandas as gpd\n",
    "import random\n",
    "import fiona\n",
    "import matplotlib.pyplot as plt\n",
    "from pathlib import Path\n",
    "import random, os, sys\n",
    "import numpy as np\n",
    "import zipfile\n",
    "import seaborn as sns\n",
    "\n",
    "sys.path.insert(0, 'C:/Users/mmh/Documents/Codes/cross-sectro-transp-energy-model/')\n",
    "# importlib.reload(sys.modules['src.calculation'])\n",
    "from src.func_buildings import *\n",
    "pd.set_option('display.max_columns', None)\n",
    "data_dir = 'C:/Users/mmh/Documents/Data/'\n",
    "data_maps = 'C:/Users/mmh/OneDrive - Oak Ridge National Laboratory/Melrose/8.Maps/'"
   ]
  },
  {
   "cell_type": "markdown",
   "id": "553fb1e4",
   "metadata": {},
   "source": [
    "# Arizona - Pima County\n",
    "Original version: https://zenodo.org/records/7644412\n",
    "\n",
    "Obviously after updaing the data set, they messed up the data: https://zenodo.org/record/8360283"
   ]
  },
  {
   "cell_type": "markdown",
   "id": "fe99f579",
   "metadata": {},
   "source": [
    "## Building locations"
   ]
  },
  {
   "cell_type": "code",
   "execution_count": 39,
   "id": "81f86759",
   "metadata": {},
   "outputs": [
    {
     "name": "stdout",
     "output_type": "stream",
     "text": [
      "2555144\n"
     ]
    }
   ],
   "source": [
    "building_loc = pd.read_csv(data_dir+'Buildings/AZ/AZ.csv', index_col=False)\n",
    "print(len(building_loc))\n",
    "building_loc[['latitude','longitude']] = building_loc.Centroid.str.split(\"/\", expand = True)\n",
    "building_loc = gpd.GeoDataFrame(building_loc, geometry=gpd.points_from_xy(building_loc.longitude, building_loc.latitude), \n",
    "                                crs=4269)    "
   ]
  },
  {
   "cell_type": "code",
   "execution_count": 40,
   "id": "9f07bcd9",
   "metadata": {},
   "outputs": [
    {
     "data": {
      "text/html": [
       "<div>\n",
       "<style scoped>\n",
       "    .dataframe tbody tr th:only-of-type {\n",
       "        vertical-align: middle;\n",
       "    }\n",
       "\n",
       "    .dataframe tbody tr th {\n",
       "        vertical-align: top;\n",
       "    }\n",
       "\n",
       "    .dataframe thead th {\n",
       "        text-align: right;\n",
       "    }\n",
       "</style>\n",
       "<table border=\"1\" class=\"dataframe\">\n",
       "  <thead>\n",
       "    <tr style=\"text-align: right;\">\n",
       "      <th></th>\n",
       "      <th>ID</th>\n",
       "      <th>Centroid</th>\n",
       "      <th>Footprint2D</th>\n",
       "      <th>State</th>\n",
       "      <th>Area</th>\n",
       "      <th>Area2D</th>\n",
       "      <th>Height</th>\n",
       "      <th>NumFloors</th>\n",
       "      <th>WWR_surfaces</th>\n",
       "      <th>CZ</th>\n",
       "      <th>BuildingType</th>\n",
       "      <th>Standard</th>\n",
       "      <th>latitude</th>\n",
       "      <th>longitude</th>\n",
       "      <th>geometry</th>\n",
       "    </tr>\n",
       "  </thead>\n",
       "  <tbody>\n",
       "  </tbody>\n",
       "</table>\n",
       "</div>"
      ],
      "text/plain": [
       "Empty GeoDataFrame\n",
       "Columns: [ID, Centroid, Footprint2D, State, Area, Area2D, Height, NumFloors, WWR_surfaces, CZ, BuildingType, Standard, latitude, longitude, geometry]\n",
       "Index: []"
      ]
     },
     "execution_count": 40,
     "metadata": {},
     "output_type": "execute_result"
    }
   ],
   "source": [
    "building_loc[building_loc.ID==8019004583478]"
   ]
  },
  {
   "cell_type": "code",
   "execution_count": 41,
   "id": "8c0be4f8",
   "metadata": {},
   "outputs": [
    {
     "data": {
      "text/html": [
       "<div>\n",
       "<style scoped>\n",
       "    .dataframe tbody tr th:only-of-type {\n",
       "        vertical-align: middle;\n",
       "    }\n",
       "\n",
       "    .dataframe tbody tr th {\n",
       "        vertical-align: top;\n",
       "    }\n",
       "\n",
       "    .dataframe thead th {\n",
       "        text-align: right;\n",
       "    }\n",
       "</style>\n",
       "<table border=\"1\" class=\"dataframe\">\n",
       "  <thead>\n",
       "    <tr style=\"text-align: right;\">\n",
       "      <th></th>\n",
       "      <th>ID</th>\n",
       "      <th>Centroid</th>\n",
       "      <th>Footprint2D</th>\n",
       "      <th>State</th>\n",
       "      <th>Area</th>\n",
       "      <th>Area2D</th>\n",
       "      <th>Height</th>\n",
       "      <th>NumFloors</th>\n",
       "      <th>WWR_surfaces</th>\n",
       "      <th>CZ</th>\n",
       "      <th>BuildingType</th>\n",
       "      <th>Standard</th>\n",
       "      <th>latitude</th>\n",
       "      <th>longitude</th>\n",
       "      <th>geometry</th>\n",
       "    </tr>\n",
       "  </thead>\n",
       "  <tbody>\n",
       "    <tr>\n",
       "      <th>0</th>\n",
       "      <td>8100000000000</td>\n",
       "      <td>36.9250485/-113.93949299999997</td>\n",
       "      <td>36.92509342519237/-113.939476279076_36.9250399...</td>\n",
       "      <td>AZ</td>\n",
       "      <td>302.21482</td>\n",
       "      <td>302.21482</td>\n",
       "      <td>9.0</td>\n",
       "      <td>1.0</td>\n",
       "      <td>.14_.14_.14_.14</td>\n",
       "      <td>3B</td>\n",
       "      <td>IECC</td>\n",
       "      <td>90.1-2010</td>\n",
       "      <td>36.9250485</td>\n",
       "      <td>-113.93949299999997</td>\n",
       "      <td>POINT (-113.93949 36.92505)</td>\n",
       "    </tr>\n",
       "    <tr>\n",
       "      <th>1</th>\n",
       "      <td>8100000000001</td>\n",
       "      <td>36.917147500000006/-113.93760900000001</td>\n",
       "      <td>36.91725884689579/-113.9376613924597_36.917258...</td>\n",
       "      <td>AZ</td>\n",
       "      <td>1745.59563</td>\n",
       "      <td>1745.59563</td>\n",
       "      <td>9.0</td>\n",
       "      <td>1.0</td>\n",
       "      <td>.14_.14_.14_.14</td>\n",
       "      <td>3B</td>\n",
       "      <td>IECC</td>\n",
       "      <td>90.1-2010</td>\n",
       "      <td>36.917147500000006</td>\n",
       "      <td>-113.93760900000001</td>\n",
       "      <td>POINT (-113.93761 36.91715)</td>\n",
       "    </tr>\n",
       "  </tbody>\n",
       "</table>\n",
       "</div>"
      ],
      "text/plain": [
       "              ID                                Centroid  \\\n",
       "0  8100000000000          36.9250485/-113.93949299999997   \n",
       "1  8100000000001  36.917147500000006/-113.93760900000001   \n",
       "\n",
       "                                         Footprint2D State        Area  \\\n",
       "0  36.92509342519237/-113.939476279076_36.9250399...    AZ   302.21482   \n",
       "1  36.91725884689579/-113.9376613924597_36.917258...    AZ  1745.59563   \n",
       "\n",
       "       Area2D  Height  NumFloors     WWR_surfaces  CZ BuildingType   Standard  \\\n",
       "0   302.21482     9.0        1.0  .14_.14_.14_.14  3B         IECC  90.1-2010   \n",
       "1  1745.59563     9.0        1.0  .14_.14_.14_.14  3B         IECC  90.1-2010   \n",
       "\n",
       "             latitude            longitude                     geometry  \n",
       "0          36.9250485  -113.93949299999997  POINT (-113.93949 36.92505)  \n",
       "1  36.917147500000006  -113.93760900000001  POINT (-113.93761 36.91715)  "
      ]
     },
     "execution_count": 41,
     "metadata": {},
     "output_type": "execute_result"
    }
   ],
   "source": [
    "building_loc.head(2)"
   ]
  },
  {
   "cell_type": "code",
   "execution_count": 3,
   "id": "8d8f5193",
   "metadata": {},
   "outputs": [
    {
     "data": {
      "text/plain": [
       "IECC                      2314428\n",
       "SmallOffice                 93679\n",
       "RetailStandalone            40194\n",
       "MediumOffice                21096\n",
       "RetailStripmall             18986\n",
       "MidriseApartment            12092\n",
       "Outpatient                  10500\n",
       "Warehouse                   10426\n",
       "FullServiceRestaurant        8423\n",
       "QuickServiceRestaurant       7198\n",
       "SmallHotel                   5527\n",
       "SecondarySchool              4272\n",
       "PrimarySchool                2902\n",
       "HighriseApartment            2371\n",
       "LargeOffice                  1839\n",
       "LargeHotel                    706\n",
       "Hospital                      505\n",
       "Name: BuildingType, dtype: int64"
      ]
     },
     "execution_count": 3,
     "metadata": {},
     "output_type": "execute_result"
    }
   ],
   "source": [
    "building_loc.BuildingType.value_counts()"
   ]
  },
  {
   "cell_type": "code",
   "execution_count": 21,
   "id": "d04dd7d7",
   "metadata": {},
   "outputs": [
    {
     "name": "stdout",
     "output_type": "stream",
     "text": [
      "877\n",
      "Stored 'building_loc' (GeoDataFrame)\n"
     ]
    },
    {
     "data": {
      "text/html": [
       "<div>\n",
       "<style scoped>\n",
       "    .dataframe tbody tr th:only-of-type {\n",
       "        vertical-align: middle;\n",
       "    }\n",
       "\n",
       "    .dataframe tbody tr th {\n",
       "        vertical-align: top;\n",
       "    }\n",
       "\n",
       "    .dataframe thead th {\n",
       "        text-align: right;\n",
       "    }\n",
       "</style>\n",
       "<table border=\"1\" class=\"dataframe\">\n",
       "  <thead>\n",
       "    <tr style=\"text-align: right;\">\n",
       "      <th></th>\n",
       "      <th>ID</th>\n",
       "      <th>Centroid</th>\n",
       "      <th>Footprint2D</th>\n",
       "      <th>State</th>\n",
       "      <th>Area</th>\n",
       "      <th>Area2D</th>\n",
       "      <th>Height</th>\n",
       "      <th>NumFloors</th>\n",
       "      <th>WWR_surfaces</th>\n",
       "      <th>CZ</th>\n",
       "      <th>BuildingType</th>\n",
       "      <th>Standard</th>\n",
       "      <th>latitude</th>\n",
       "      <th>longitude</th>\n",
       "      <th>geometry</th>\n",
       "      <th>index_right</th>\n",
       "      <th>STATEFP</th>\n",
       "      <th>COUNTYFP</th>\n",
       "      <th>TRACTCE</th>\n",
       "      <th>BLKGRPCE</th>\n",
       "      <th>GEOID</th>\n",
       "      <th>NAMELSAD</th>\n",
       "      <th>MTFCC</th>\n",
       "      <th>FUNCSTAT</th>\n",
       "      <th>ALAND</th>\n",
       "      <th>AWATER</th>\n",
       "      <th>INTPTLAT</th>\n",
       "      <th>INTPTLON</th>\n",
       "      <th>BuildingClass</th>\n",
       "    </tr>\n",
       "  </thead>\n",
       "  <tbody>\n",
       "    <tr>\n",
       "      <th>361964</th>\n",
       "      <td>8100000361968</td>\n",
       "      <td>32.2332017822464/-110.97001163562747</td>\n",
       "      <td>32.23326743830728/-110.9700761553153_32.233267...</td>\n",
       "      <td>AZ</td>\n",
       "      <td>1440.102037</td>\n",
       "      <td>1440.102037</td>\n",
       "      <td>16.092549</td>\n",
       "      <td>1.0</td>\n",
       "      <td>.14_.14_.14_.14_.14_.14</td>\n",
       "      <td>2B</td>\n",
       "      <td>IECC</td>\n",
       "      <td>DOE-Ref-1980-2004</td>\n",
       "      <td>32.2332017822464</td>\n",
       "      <td>-110.97001163562747</td>\n",
       "      <td>POINT (-110.97001 32.23320)</td>\n",
       "      <td>3035</td>\n",
       "      <td>04</td>\n",
       "      <td>019</td>\n",
       "      <td>000400</td>\n",
       "      <td>2</td>\n",
       "      <td>040190004002</td>\n",
       "      <td>Block Group 2</td>\n",
       "      <td>G5030</td>\n",
       "      <td>S</td>\n",
       "      <td>639759</td>\n",
       "      <td>0</td>\n",
       "      <td>+32.2359665</td>\n",
       "      <td>-110.9668684</td>\n",
       "      <td>Residential</td>\n",
       "    </tr>\n",
       "    <tr>\n",
       "      <th>362043</th>\n",
       "      <td>8100000362047</td>\n",
       "      <td>32.222776094509754/-110.9542671434197</td>\n",
       "      <td>32.22283314041453/-110.9543221547136_32.222833...</td>\n",
       "      <td>AZ</td>\n",
       "      <td>1320.563362</td>\n",
       "      <td>1320.563362</td>\n",
       "      <td>10.966123</td>\n",
       "      <td>1.0</td>\n",
       "      <td>.14_.14_.14_.14_.14_.14</td>\n",
       "      <td>2B</td>\n",
       "      <td>IECC</td>\n",
       "      <td>DOE-Ref-Pre-1980</td>\n",
       "      <td>32.222776094509754</td>\n",
       "      <td>-110.9542671434197</td>\n",
       "      <td>POINT (-110.95427 32.22278)</td>\n",
       "      <td>146</td>\n",
       "      <td>04</td>\n",
       "      <td>019</td>\n",
       "      <td>000500</td>\n",
       "      <td>2</td>\n",
       "      <td>040190005002</td>\n",
       "      <td>Block Group 2</td>\n",
       "      <td>G5030</td>\n",
       "      <td>S</td>\n",
       "      <td>213479</td>\n",
       "      <td>0</td>\n",
       "      <td>+32.2235080</td>\n",
       "      <td>-110.9475650</td>\n",
       "      <td>Residential</td>\n",
       "    </tr>\n",
       "    <tr>\n",
       "      <th>362104</th>\n",
       "      <td>8100000362108</td>\n",
       "      <td>32.2347135/-110.962099</td>\n",
       "      <td>32.23475231954001/-110.9621434254698_32.234752...</td>\n",
       "      <td>AZ</td>\n",
       "      <td>475.575940</td>\n",
       "      <td>475.575940</td>\n",
       "      <td>13.123360</td>\n",
       "      <td>1.0</td>\n",
       "      <td>.14_.14_.14_.14</td>\n",
       "      <td>2B</td>\n",
       "      <td>IECC</td>\n",
       "      <td>DOE-Ref-1980-2004</td>\n",
       "      <td>32.2347135</td>\n",
       "      <td>-110.962099</td>\n",
       "      <td>POINT (-110.96210 32.23471)</td>\n",
       "      <td>3035</td>\n",
       "      <td>04</td>\n",
       "      <td>019</td>\n",
       "      <td>000400</td>\n",
       "      <td>2</td>\n",
       "      <td>040190004002</td>\n",
       "      <td>Block Group 2</td>\n",
       "      <td>G5030</td>\n",
       "      <td>S</td>\n",
       "      <td>639759</td>\n",
       "      <td>0</td>\n",
       "      <td>+32.2359665</td>\n",
       "      <td>-110.9668684</td>\n",
       "      <td>Residential</td>\n",
       "    </tr>\n",
       "    <tr>\n",
       "      <th>362976</th>\n",
       "      <td>8100000362980</td>\n",
       "      <td>32.234692/-110.96525199999999</td>\n",
       "      <td>32.23472110055219/-110.9652826223493_32.234721...</td>\n",
       "      <td>AZ</td>\n",
       "      <td>185.008727</td>\n",
       "      <td>185.008727</td>\n",
       "      <td>12.354517</td>\n",
       "      <td>1.0</td>\n",
       "      <td>.14_.14_.14_.14</td>\n",
       "      <td>2B</td>\n",
       "      <td>IECC</td>\n",
       "      <td>DOE-Ref-1980-2004</td>\n",
       "      <td>32.234692</td>\n",
       "      <td>-110.96525199999999</td>\n",
       "      <td>POINT (-110.96525 32.23469)</td>\n",
       "      <td>3035</td>\n",
       "      <td>04</td>\n",
       "      <td>019</td>\n",
       "      <td>000400</td>\n",
       "      <td>2</td>\n",
       "      <td>040190004002</td>\n",
       "      <td>Block Group 2</td>\n",
       "      <td>G5030</td>\n",
       "      <td>S</td>\n",
       "      <td>639759</td>\n",
       "      <td>0</td>\n",
       "      <td>+32.2359665</td>\n",
       "      <td>-110.9668684</td>\n",
       "      <td>Residential</td>\n",
       "    </tr>\n",
       "    <tr>\n",
       "      <th>363188</th>\n",
       "      <td>8100000363192</td>\n",
       "      <td>32.237486000000004/-110.96174350000001</td>\n",
       "      <td>32.23755266774356/-110.9618089771458_32.237552...</td>\n",
       "      <td>AZ</td>\n",
       "      <td>1407.398541</td>\n",
       "      <td>1407.398541</td>\n",
       "      <td>12.587862</td>\n",
       "      <td>1.0</td>\n",
       "      <td>.14_.14_.14_.14</td>\n",
       "      <td>2B</td>\n",
       "      <td>IECC</td>\n",
       "      <td>DOE-Ref-Pre-1980</td>\n",
       "      <td>32.237486000000004</td>\n",
       "      <td>-110.96174350000001</td>\n",
       "      <td>POINT (-110.96174 32.23749)</td>\n",
       "      <td>3035</td>\n",
       "      <td>04</td>\n",
       "      <td>019</td>\n",
       "      <td>000400</td>\n",
       "      <td>2</td>\n",
       "      <td>040190004002</td>\n",
       "      <td>Block Group 2</td>\n",
       "      <td>G5030</td>\n",
       "      <td>S</td>\n",
       "      <td>639759</td>\n",
       "      <td>0</td>\n",
       "      <td>+32.2359665</td>\n",
       "      <td>-110.9668684</td>\n",
       "      <td>Residential</td>\n",
       "    </tr>\n",
       "  </tbody>\n",
       "</table>\n",
       "</div>"
      ],
      "text/plain": [
       "                   ID                                Centroid  \\\n",
       "361964  8100000361968    32.2332017822464/-110.97001163562747   \n",
       "362043  8100000362047   32.222776094509754/-110.9542671434197   \n",
       "362104  8100000362108                  32.2347135/-110.962099   \n",
       "362976  8100000362980           32.234692/-110.96525199999999   \n",
       "363188  8100000363192  32.237486000000004/-110.96174350000001   \n",
       "\n",
       "                                              Footprint2D State         Area  \\\n",
       "361964  32.23326743830728/-110.9700761553153_32.233267...    AZ  1440.102037   \n",
       "362043  32.22283314041453/-110.9543221547136_32.222833...    AZ  1320.563362   \n",
       "362104  32.23475231954001/-110.9621434254698_32.234752...    AZ   475.575940   \n",
       "362976  32.23472110055219/-110.9652826223493_32.234721...    AZ   185.008727   \n",
       "363188  32.23755266774356/-110.9618089771458_32.237552...    AZ  1407.398541   \n",
       "\n",
       "             Area2D     Height  NumFloors             WWR_surfaces  CZ  \\\n",
       "361964  1440.102037  16.092549        1.0  .14_.14_.14_.14_.14_.14  2B   \n",
       "362043  1320.563362  10.966123        1.0  .14_.14_.14_.14_.14_.14  2B   \n",
       "362104   475.575940  13.123360        1.0          .14_.14_.14_.14  2B   \n",
       "362976   185.008727  12.354517        1.0          .14_.14_.14_.14  2B   \n",
       "363188  1407.398541  12.587862        1.0          .14_.14_.14_.14  2B   \n",
       "\n",
       "       BuildingType           Standard            latitude  \\\n",
       "361964         IECC  DOE-Ref-1980-2004    32.2332017822464   \n",
       "362043         IECC   DOE-Ref-Pre-1980  32.222776094509754   \n",
       "362104         IECC  DOE-Ref-1980-2004          32.2347135   \n",
       "362976         IECC  DOE-Ref-1980-2004           32.234692   \n",
       "363188         IECC   DOE-Ref-Pre-1980  32.237486000000004   \n",
       "\n",
       "                  longitude                     geometry  index_right STATEFP  \\\n",
       "361964  -110.97001163562747  POINT (-110.97001 32.23320)         3035      04   \n",
       "362043   -110.9542671434197  POINT (-110.95427 32.22278)          146      04   \n",
       "362104          -110.962099  POINT (-110.96210 32.23471)         3035      04   \n",
       "362976  -110.96525199999999  POINT (-110.96525 32.23469)         3035      04   \n",
       "363188  -110.96174350000001  POINT (-110.96174 32.23749)         3035      04   \n",
       "\n",
       "       COUNTYFP TRACTCE BLKGRPCE         GEOID       NAMELSAD  MTFCC FUNCSTAT  \\\n",
       "361964      019  000400        2  040190004002  Block Group 2  G5030        S   \n",
       "362043      019  000500        2  040190005002  Block Group 2  G5030        S   \n",
       "362104      019  000400        2  040190004002  Block Group 2  G5030        S   \n",
       "362976      019  000400        2  040190004002  Block Group 2  G5030        S   \n",
       "363188      019  000400        2  040190004002  Block Group 2  G5030        S   \n",
       "\n",
       "         ALAND  AWATER     INTPTLAT      INTPTLON BuildingClass  \n",
       "361964  639759       0  +32.2359665  -110.9668684   Residential  \n",
       "362043  213479       0  +32.2235080  -110.9475650   Residential  \n",
       "362104  639759       0  +32.2359665  -110.9668684   Residential  \n",
       "362976  639759       0  +32.2359665  -110.9668684   Residential  \n",
       "363188  639759       0  +32.2359665  -110.9668684   Residential  "
      ]
     },
     "execution_count": 21,
     "metadata": {},
     "output_type": "execute_result"
    }
   ],
   "source": [
    "AZ_shp = gpd.read_file(data_maps+'geo/tl_2019/tl_2019_04_bg.zip', index_col=False)\n",
    "building_loc = building_loc.sjoin(AZ_shp, how=\"left\", predicate=\"within\")\n",
    "# building_loc.to_file('AZ_buildings.shp', driver='ESRI Shapefile')\n",
    "\n",
    "## Select all the buildings in PC\n",
    "building_loc = building_loc[building_loc.COUNTYFP == '019'] # Pima County\n",
    "\n",
    "## Select all the buildings in three BGS\n",
    "building_loc = building_loc[((building_loc.TRACTCE=='000500')&(building_loc.BLKGRPCE=='2'))| \n",
    "                             ((building_loc.TRACTCE=='000500')&(building_loc.BLKGRPCE=='4'))|\n",
    "                             ((building_loc.TRACTCE=='000400')&(building_loc.BLKGRPCE=='2'))]\n",
    "# buildings_pima_selected = buildings_pima_selected.sample(frac=0.5) # randomly select 20% of the buildings\n",
    "print(len(building_loc))\n",
    "\n",
    "building_loc['BuildingClass'] = 'Commercial'\n",
    "building_loc.loc[building_loc.BuildingType.isin(['MidriseApartment','HighriseApartment','IECC']),'BuildingClass'] = 'Residential'\n",
    "building_loc.loc[building_loc.BuildingType.isin(['SmallOffice','MediumOffice','LargeOffice',\n",
    "                                              'PrimarySchool','SecondarySchool']),'BuildingClass'] = 'Industrial'\n",
    "\n",
    "%store building_loc\n",
    "\n",
    "building_loc.head()"
   ]
  },
  {
   "cell_type": "code",
   "execution_count": 28,
   "id": "c6cc1d86",
   "metadata": {},
   "outputs": [
    {
     "name": "stderr",
     "output_type": "stream",
     "text": [
      "C:\\Users\\mmh\\AppData\\Local\\Temp\\ipykernel_2328\\4091208752.py:1: UserWarning: Column names longer than 10 characters will be truncated when saved to ESRI Shapefile.\n",
      "  building_loc.to_file('3BG_buildings.shp', driver='ESRI Shapefile')\n"
     ]
    }
   ],
   "source": [
    "building_loc.to_file('3BG_buildings.shp', driver='ESRI Shapefile')"
   ]
  },
  {
   "cell_type": "code",
   "execution_count": 25,
   "id": "56991c96",
   "metadata": {},
   "outputs": [
    {
     "data": {
      "text/plain": [
       "IECC                     776\n",
       "SmallOffice               17\n",
       "MediumOffice              16\n",
       "LargeHotel                12\n",
       "RetailStandalone           8\n",
       "Hospital                   7\n",
       "RetailStripmall            6\n",
       "Outpatient                 6\n",
       "Warehouse                  6\n",
       "MidriseApartment           6\n",
       "HighriseApartment          6\n",
       "LargeOffice                5\n",
       "SecondarySchool            3\n",
       "PrimarySchool              1\n",
       "FullServiceRestaurant      1\n",
       "SmallHotel                 1\n",
       "Name: BuildingType, dtype: int64"
      ]
     },
     "execution_count": 25,
     "metadata": {},
     "output_type": "execute_result"
    }
   ],
   "source": [
    "building_loc.BuildingType.value_counts()"
   ]
  },
  {
   "cell_type": "code",
   "execution_count": 32,
   "id": "95bfb817",
   "metadata": {},
   "outputs": [
    {
     "data": {
      "text/html": [
       "<div>\n",
       "<style scoped>\n",
       "    .dataframe tbody tr th:only-of-type {\n",
       "        vertical-align: middle;\n",
       "    }\n",
       "\n",
       "    .dataframe tbody tr th {\n",
       "        vertical-align: top;\n",
       "    }\n",
       "\n",
       "    .dataframe thead th {\n",
       "        text-align: right;\n",
       "    }\n",
       "</style>\n",
       "<table border=\"1\" class=\"dataframe\">\n",
       "  <thead>\n",
       "    <tr style=\"text-align: right;\">\n",
       "      <th></th>\n",
       "      <th>ID</th>\n",
       "      <th>Centroid</th>\n",
       "      <th>Footprint2D</th>\n",
       "      <th>State</th>\n",
       "      <th>Area</th>\n",
       "      <th>Area2D</th>\n",
       "      <th>Height</th>\n",
       "      <th>NumFloors</th>\n",
       "      <th>WWR_surfaces</th>\n",
       "      <th>CZ</th>\n",
       "      <th>BuildingType</th>\n",
       "      <th>Standard</th>\n",
       "      <th>latitude</th>\n",
       "      <th>longitude</th>\n",
       "      <th>geometry</th>\n",
       "    </tr>\n",
       "  </thead>\n",
       "  <tbody>\n",
       "  </tbody>\n",
       "</table>\n",
       "</div>"
      ],
      "text/plain": [
       "Empty GeoDataFrame\n",
       "Columns: [ID, Centroid, Footprint2D, State, Area, Area2D, Height, NumFloors, WWR_surfaces, CZ, BuildingType, Standard, latitude, longitude, geometry]\n",
       "Index: []"
      ]
     },
     "execution_count": 32,
     "metadata": {},
     "output_type": "execute_result"
    }
   ],
   "source": [
    "building_loc[building_loc.ID=='8019004583500']"
   ]
  },
  {
   "cell_type": "markdown",
   "id": "b631c9c7",
   "metadata": {},
   "source": [
    "## Building capacity"
   ]
  },
  {
   "cell_type": "code",
   "execution_count": 27,
   "id": "cbf2cc73",
   "metadata": {},
   "outputs": [
    {
     "data": {
      "text/html": [
       "<div>\n",
       "<style scoped>\n",
       "    .dataframe tbody tr th:only-of-type {\n",
       "        vertical-align: middle;\n",
       "    }\n",
       "\n",
       "    .dataframe tbody tr th {\n",
       "        vertical-align: top;\n",
       "    }\n",
       "\n",
       "    .dataframe thead th {\n",
       "        text-align: right;\n",
       "    }\n",
       "</style>\n",
       "<table border=\"1\" class=\"dataframe\">\n",
       "  <thead>\n",
       "    <tr style=\"text-align: right;\">\n",
       "      <th></th>\n",
       "    </tr>\n",
       "  </thead>\n",
       "  <tbody>\n",
       "  </tbody>\n",
       "</table>\n",
       "</div>"
      ],
      "text/plain": [
       "Empty DataFrame\n",
       "Columns: []\n",
       "Index: []"
      ]
     },
     "execution_count": 27,
     "metadata": {},
     "output_type": "execute_result"
    }
   ],
   "source": [
    "df = pd.DataFrame()\n",
    "# buildingType = pd.DataFrame()\n",
    "i = 0\n",
    "for fname in filenames:\n",
    "    loc_fname = os.path.join(loc, fname)\n",
    "    if Path(loc_fname).is_file():\n",
    "        x = read_idf(loc_fname)\n",
    "        x['ID'] = fname\n",
    "        if len(type_subset)!=0 and len(name_subset)!=0:\n",
    "            x = x[(x.type.isin(type_subset)) & (x.name.isin(name_subset))]\n",
    "        elif len(type_subset)!=0 and len(name_subset)==0:\n",
    "            x = x[(x.type.isin(type_subset))]\n",
    "        df = pd.concat([df,x])\n",
    "    i = i + 1\n",
    "        # buildingType = pd.concat([buildingType,xType])\n",
    "df.head()      \n",
    "# df['ID'] = df['ID'].str.replace(r'.idf', '', regex=True)\n",
    "# df['ID'] = df['ID'].astype('int64')\n",
    "\n",
    "# print('size: '+str(round(df.memory_usage(index=True).sum()/1e9,4))+'GB')"
   ]
  },
  {
   "cell_type": "code",
   "execution_count": 24,
   "id": "20cbdc39",
   "metadata": {},
   "outputs": [
    {
     "ename": "KeyError",
     "evalue": "'ID'",
     "output_type": "error",
     "traceback": [
      "\u001b[1;31m---------------------------------------------------------------------------\u001b[0m",
      "\u001b[1;31mKeyError\u001b[0m                                  Traceback (most recent call last)",
      "File \u001b[1;32mc:\\Users\\mmh\\Anaconda3\\envs\\py39sim\\lib\\site-packages\\pandas\\core\\indexes\\base.py:3802\u001b[0m, in \u001b[0;36mIndex.get_loc\u001b[1;34m(self, key, method, tolerance)\u001b[0m\n\u001b[0;32m   3801\u001b[0m \u001b[39mtry\u001b[39;00m:\n\u001b[1;32m-> 3802\u001b[0m     \u001b[39mreturn\u001b[39;00m \u001b[39mself\u001b[39;49m\u001b[39m.\u001b[39;49m_engine\u001b[39m.\u001b[39;49mget_loc(casted_key)\n\u001b[0;32m   3803\u001b[0m \u001b[39mexcept\u001b[39;00m \u001b[39mKeyError\u001b[39;00m \u001b[39mas\u001b[39;00m err:\n",
      "File \u001b[1;32mc:\\Users\\mmh\\Anaconda3\\envs\\py39sim\\lib\\site-packages\\pandas\\_libs\\index.pyx:138\u001b[0m, in \u001b[0;36mpandas._libs.index.IndexEngine.get_loc\u001b[1;34m()\u001b[0m\n",
      "File \u001b[1;32mc:\\Users\\mmh\\Anaconda3\\envs\\py39sim\\lib\\site-packages\\pandas\\_libs\\index.pyx:165\u001b[0m, in \u001b[0;36mpandas._libs.index.IndexEngine.get_loc\u001b[1;34m()\u001b[0m\n",
      "File \u001b[1;32mpandas\\_libs\\hashtable_class_helper.pxi:5745\u001b[0m, in \u001b[0;36mpandas._libs.hashtable.PyObjectHashTable.get_item\u001b[1;34m()\u001b[0m\n",
      "File \u001b[1;32mpandas\\_libs\\hashtable_class_helper.pxi:5753\u001b[0m, in \u001b[0;36mpandas._libs.hashtable.PyObjectHashTable.get_item\u001b[1;34m()\u001b[0m\n",
      "\u001b[1;31mKeyError\u001b[0m: 'ID'",
      "\nThe above exception was the direct cause of the following exception:\n",
      "\u001b[1;31mKeyError\u001b[0m                                  Traceback (most recent call last)",
      "\u001b[1;32mc:\\Users\\mmh\\OneDrive - Oak Ridge National Laboratory\\Codes\\cross-sectro-transp-energy-model\\read_buildings.ipynb Cell 12\u001b[0m line \u001b[0;36m5\n\u001b[0;32m      <a href='vscode-notebook-cell:/c%3A/Users/mmh/OneDrive%20-%20Oak%20Ridge%20National%20Laboratory/Codes/cross-sectro-transp-energy-model/read_buildings.ipynb#X11sZmlsZQ%3D%3D?line=2'>3</a>\u001b[0m \u001b[39m# filenames = random.sample(os.listdir(loc), 5)\u001b[39;00m\n\u001b[0;32m      <a href='vscode-notebook-cell:/c%3A/Users/mmh/OneDrive%20-%20Oak%20Ridge%20National%20Laboratory/Codes/cross-sectro-transp-energy-model/read_buildings.ipynb#X11sZmlsZQ%3D%3D?line=3'>4</a>\u001b[0m filenames \u001b[39m=\u001b[39m building_loc\u001b[39m.\u001b[39mID\u001b[39m.\u001b[39mastype(\u001b[39mstr\u001b[39m)\u001b[39m+\u001b[39m\u001b[39m'\u001b[39m\u001b[39m.idf\u001b[39m\u001b[39m'\u001b[39m\n\u001b[1;32m----> <a href='vscode-notebook-cell:/c%3A/Users/mmh/OneDrive%20-%20Oak%20Ridge%20National%20Laboratory/Codes/cross-sectro-transp-energy-model/read_buildings.ipynb#X11sZmlsZQ%3D%3D?line=4'>5</a>\u001b[0m building_set \u001b[39m=\u001b[39m process_idf(loc,filenames,type_subset)\n\u001b[0;32m      <a href='vscode-notebook-cell:/c%3A/Users/mmh/OneDrive%20-%20Oak%20Ridge%20National%20Laboratory/Codes/cross-sectro-transp-energy-model/read_buildings.ipynb#X11sZmlsZQ%3D%3D?line=5'>6</a>\u001b[0m building_set \u001b[39m=\u001b[39m pd\u001b[39m.\u001b[39mmerge(building_set,building_loc[[\u001b[39m'\u001b[39m\u001b[39mID\u001b[39m\u001b[39m'\u001b[39m,\u001b[39m'\u001b[39m\u001b[39mTRACTCE\u001b[39m\u001b[39m'\u001b[39m,\u001b[39m'\u001b[39m\u001b[39mBLKGRPCE\u001b[39m\u001b[39m'\u001b[39m]],how\u001b[39m=\u001b[39m\u001b[39m'\u001b[39m\u001b[39mleft\u001b[39m\u001b[39m'\u001b[39m,on\u001b[39m=\u001b[39m\u001b[39m'\u001b[39m\u001b[39mID\u001b[39m\u001b[39m'\u001b[39m)\n\u001b[0;32m      <a href='vscode-notebook-cell:/c%3A/Users/mmh/OneDrive%20-%20Oak%20Ridge%20National%20Laboratory/Codes/cross-sectro-transp-energy-model/read_buildings.ipynb#X11sZmlsZQ%3D%3D?line=6'>7</a>\u001b[0m building_set\u001b[39m.\u001b[39mhead()\n",
      "File \u001b[1;32mc:\\Users\\mmh\\OneDrive - Oak Ridge National Laboratory\\Codes\\cross-sectro-transp-energy-model\\src\\func_buildings.py:85\u001b[0m, in \u001b[0;36mprocess_idf\u001b[1;34m(loc, filenames, type_subset, name_subset)\u001b[0m\n\u001b[0;32m     82\u001b[0m         df \u001b[39m=\u001b[39m pd\u001b[39m.\u001b[39mconcat([df,x])\n\u001b[0;32m     83\u001b[0m         \u001b[39m# buildingType = pd.concat([buildingType,xType])\u001b[39;00m\n\u001b[1;32m---> 85\u001b[0m df[\u001b[39m'\u001b[39m\u001b[39mID\u001b[39m\u001b[39m'\u001b[39m] \u001b[39m=\u001b[39m df[\u001b[39m'\u001b[39;49m\u001b[39mID\u001b[39;49m\u001b[39m'\u001b[39;49m]\u001b[39m.\u001b[39mstr\u001b[39m.\u001b[39mreplace(\u001b[39mr\u001b[39m\u001b[39m'\u001b[39m\u001b[39m.idf\u001b[39m\u001b[39m'\u001b[39m, \u001b[39m'\u001b[39m\u001b[39m'\u001b[39m, regex\u001b[39m=\u001b[39m\u001b[39mTrue\u001b[39;00m)\n\u001b[0;32m     86\u001b[0m df[\u001b[39m'\u001b[39m\u001b[39mID\u001b[39m\u001b[39m'\u001b[39m] \u001b[39m=\u001b[39m df[\u001b[39m'\u001b[39m\u001b[39mID\u001b[39m\u001b[39m'\u001b[39m]\u001b[39m.\u001b[39mastype(\u001b[39m'\u001b[39m\u001b[39mint64\u001b[39m\u001b[39m'\u001b[39m)\n\u001b[0;32m     88\u001b[0m \u001b[39mprint\u001b[39m(\u001b[39m'\u001b[39m\u001b[39msize: \u001b[39m\u001b[39m'\u001b[39m\u001b[39m+\u001b[39m\u001b[39mstr\u001b[39m(\u001b[39mround\u001b[39m(df\u001b[39m.\u001b[39mmemory_usage(index\u001b[39m=\u001b[39m\u001b[39mTrue\u001b[39;00m)\u001b[39m.\u001b[39msum()\u001b[39m/\u001b[39m\u001b[39m1e9\u001b[39m,\u001b[39m4\u001b[39m))\u001b[39m+\u001b[39m\u001b[39m'\u001b[39m\u001b[39mGB\u001b[39m\u001b[39m'\u001b[39m)\n",
      "File \u001b[1;32mc:\\Users\\mmh\\Anaconda3\\envs\\py39sim\\lib\\site-packages\\pandas\\core\\frame.py:3807\u001b[0m, in \u001b[0;36mDataFrame.__getitem__\u001b[1;34m(self, key)\u001b[0m\n\u001b[0;32m   3805\u001b[0m \u001b[39mif\u001b[39;00m \u001b[39mself\u001b[39m\u001b[39m.\u001b[39mcolumns\u001b[39m.\u001b[39mnlevels \u001b[39m>\u001b[39m \u001b[39m1\u001b[39m:\n\u001b[0;32m   3806\u001b[0m     \u001b[39mreturn\u001b[39;00m \u001b[39mself\u001b[39m\u001b[39m.\u001b[39m_getitem_multilevel(key)\n\u001b[1;32m-> 3807\u001b[0m indexer \u001b[39m=\u001b[39m \u001b[39mself\u001b[39;49m\u001b[39m.\u001b[39;49mcolumns\u001b[39m.\u001b[39;49mget_loc(key)\n\u001b[0;32m   3808\u001b[0m \u001b[39mif\u001b[39;00m is_integer(indexer):\n\u001b[0;32m   3809\u001b[0m     indexer \u001b[39m=\u001b[39m [indexer]\n",
      "File \u001b[1;32mc:\\Users\\mmh\\Anaconda3\\envs\\py39sim\\lib\\site-packages\\pandas\\core\\indexes\\base.py:3804\u001b[0m, in \u001b[0;36mIndex.get_loc\u001b[1;34m(self, key, method, tolerance)\u001b[0m\n\u001b[0;32m   3802\u001b[0m     \u001b[39mreturn\u001b[39;00m \u001b[39mself\u001b[39m\u001b[39m.\u001b[39m_engine\u001b[39m.\u001b[39mget_loc(casted_key)\n\u001b[0;32m   3803\u001b[0m \u001b[39mexcept\u001b[39;00m \u001b[39mKeyError\u001b[39;00m \u001b[39mas\u001b[39;00m err:\n\u001b[1;32m-> 3804\u001b[0m     \u001b[39mraise\u001b[39;00m \u001b[39mKeyError\u001b[39;00m(key) \u001b[39mfrom\u001b[39;00m \u001b[39merr\u001b[39;00m\n\u001b[0;32m   3805\u001b[0m \u001b[39mexcept\u001b[39;00m \u001b[39mTypeError\u001b[39;00m:\n\u001b[0;32m   3806\u001b[0m     \u001b[39m# If we have a listlike key, _check_indexing_error will raise\u001b[39;00m\n\u001b[0;32m   3807\u001b[0m     \u001b[39m#  InvalidIndexError. Otherwise we fall through and re-raise\u001b[39;00m\n\u001b[0;32m   3808\u001b[0m     \u001b[39m#  the TypeError.\u001b[39;00m\n\u001b[0;32m   3809\u001b[0m     \u001b[39mself\u001b[39m\u001b[39m.\u001b[39m_check_indexing_error(key)\n",
      "\u001b[1;31mKeyError\u001b[0m: 'ID'"
     ]
    }
   ],
   "source": [
    "loc = data_dir+'Buildings/IDF_AZ/AZ_Pima'\n",
    "type_subset = ['People']\n",
    "# filenames = random.sample(os.listdir(loc), 5)\n",
    "filenames = building_loc.ID.astype(str)+'.idf'\n",
    "building_set = process_idf(loc,filenames,type_subset)\n",
    "building_set = pd.merge(building_set,building_loc[['ID','TRACTCE','BLKGRPCE']],how='left',on='ID')\n",
    "building_set.head()"
   ]
  },
  {
   "cell_type": "code",
   "execution_count": null,
   "id": "92c94553",
   "metadata": {},
   "outputs": [
    {
     "data": {
      "text/plain": [
       "{'Activity Level Schedule Name',\n",
       " 'Air Velocity Schedule Name',\n",
       " 'Carbon Dioxide Generation Rate {m3/s-W}',\n",
       " 'Clothing Insulation Calculation Method',\n",
       " 'Clothing Insulation Calculation Method Schedule Name',\n",
       " 'Clothing Insulation Schedule Name',\n",
       " 'Enable ASHRAE 55 Comfort Warnings',\n",
       " 'Fraction Radiant',\n",
       " 'Mean Radiant Temperature Calculation Type',\n",
       " 'Name',\n",
       " 'Number of People',\n",
       " 'Number of People Calculation Method',\n",
       " 'Number of People Schedule Name',\n",
       " 'People per Zone Floor Area {person/m2}',\n",
       " 'Sensible Heat Fraction',\n",
       " 'Surface Name/Angle Factor List Name',\n",
       " 'Work Efficiency Schedule Name',\n",
       " 'Zone Floor Area per Person {m2/person}',\n",
       " 'Zone or ZoneList Name',\n",
       " nan}"
      ]
     },
     "execution_count": 7,
     "metadata": {},
     "output_type": "execute_result"
    }
   ],
   "source": [
    "set(building_set.name)"
   ]
  },
  {
   "cell_type": "code",
   "execution_count": null,
   "id": "89a4cf65",
   "metadata": {},
   "outputs": [
    {
     "data": {
      "text/plain": [
       "52"
      ]
     },
     "execution_count": 8,
     "metadata": {},
     "output_type": "execute_result"
    }
   ],
   "source": [
    "# examine: some buildings do not have this information - may not need to simulate?\n",
    "inclusion_ID = building_set[building_set.name=='People per Zone Floor Area {person/m2}'].ID \n",
    "len(building_loc[~building_loc.ID.isin(inclusion_ID)])"
   ]
  },
  {
   "cell_type": "code",
   "execution_count": null,
   "id": "a2d05fb1",
   "metadata": {},
   "outputs": [
    {
     "name": "stdout",
     "output_type": "stream",
     "text": [
      "849\n",
      "Stored 'building_cap' (DataFrame)\n"
     ]
    },
    {
     "data": {
      "text/html": [
       "<div>\n",
       "<style scoped>\n",
       "    .dataframe tbody tr th:only-of-type {\n",
       "        vertical-align: middle;\n",
       "    }\n",
       "\n",
       "    .dataframe tbody tr th {\n",
       "        vertical-align: top;\n",
       "    }\n",
       "\n",
       "    .dataframe thead th {\n",
       "        text-align: right;\n",
       "    }\n",
       "</style>\n",
       "<table border=\"1\" class=\"dataframe\">\n",
       "  <thead>\n",
       "    <tr style=\"text-align: right;\">\n",
       "      <th></th>\n",
       "      <th>ID</th>\n",
       "      <th>TRACTCE</th>\n",
       "      <th>BLKGRPCE</th>\n",
       "      <th>Area</th>\n",
       "      <th>latitude</th>\n",
       "      <th>longitude</th>\n",
       "      <th>capacity</th>\n",
       "    </tr>\n",
       "  </thead>\n",
       "  <tbody>\n",
       "    <tr>\n",
       "      <th>5</th>\n",
       "      <td>8019004624875</td>\n",
       "      <td>000400</td>\n",
       "      <td>2</td>\n",
       "      <td>4320.306112</td>\n",
       "      <td>32.2332017822464</td>\n",
       "      <td>-110.97001163562747</td>\n",
       "      <td>77.505678</td>\n",
       "    </tr>\n",
       "    <tr>\n",
       "      <th>25</th>\n",
       "      <td>8019004624951</td>\n",
       "      <td>000500</td>\n",
       "      <td>2</td>\n",
       "      <td>2641.126724</td>\n",
       "      <td>32.222776094509754</td>\n",
       "      <td>-110.9542671434197</td>\n",
       "      <td>47.381438</td>\n",
       "    </tr>\n",
       "    <tr>\n",
       "      <th>45</th>\n",
       "      <td>8019004625008</td>\n",
       "      <td>000400</td>\n",
       "      <td>2</td>\n",
       "      <td>951.151879</td>\n",
       "      <td>32.2347135</td>\n",
       "      <td>-110.962099</td>\n",
       "      <td>17.063530</td>\n",
       "    </tr>\n",
       "    <tr>\n",
       "      <th>65</th>\n",
       "      <td>8019004625839</td>\n",
       "      <td>000400</td>\n",
       "      <td>2</td>\n",
       "      <td>370.017454</td>\n",
       "      <td>32.234692</td>\n",
       "      <td>-110.96525199999999</td>\n",
       "      <td>6.638061</td>\n",
       "    </tr>\n",
       "    <tr>\n",
       "      <th>85</th>\n",
       "      <td>8019004626038</td>\n",
       "      <td>000400</td>\n",
       "      <td>2</td>\n",
       "      <td>2814.797081</td>\n",
       "      <td>32.237486000000004</td>\n",
       "      <td>-110.96174350000001</td>\n",
       "      <td>50.497060</td>\n",
       "    </tr>\n",
       "  </tbody>\n",
       "</table>\n",
       "</div>"
      ],
      "text/plain": [
       "               ID TRACTCE BLKGRPCE         Area            latitude  \\\n",
       "5   8019004624875  000400        2  4320.306112    32.2332017822464   \n",
       "25  8019004624951  000500        2  2641.126724  32.222776094509754   \n",
       "45  8019004625008  000400        2   951.151879          32.2347135   \n",
       "65  8019004625839  000400        2   370.017454           32.234692   \n",
       "85  8019004626038  000400        2  2814.797081  32.237486000000004   \n",
       "\n",
       "              longitude   capacity  \n",
       "5   -110.97001163562747  77.505678  \n",
       "25   -110.9542671434197  47.381438  \n",
       "45          -110.962099  17.063530  \n",
       "65  -110.96525199999999   6.638061  \n",
       "85  -110.96174350000001  50.497060  "
      ]
     },
     "execution_count": 9,
     "metadata": {},
     "output_type": "execute_result"
    }
   ],
   "source": [
    "selected_cols = ['ID','TRACTCE','BLKGRPCE','Area','latitude','longitude']\n",
    "building_cap = pd.merge(building_set,building_loc[selected_cols],how='left',on=['ID','TRACTCE','BLKGRPCE'])\n",
    "\n",
    "### need to double check whether this parameter is used\n",
    "building_cap = building_cap[building_cap.name=='People per Zone Floor Area {person/m2}'] # some buildings do not have this information - may not need to simulate?\n",
    "# building_cap[building_cap.isna().any(axis=1)]\n",
    "building_cap['capacity'] = building_cap['value'].astype(float) * building_cap['Area']\n",
    "building_cap = building_cap[selected_cols+['capacity']]\n",
    "print(len(set(building_cap.ID)))\n",
    "\n",
    "%store building_cap\n",
    "\n",
    "building_cap.head()"
   ]
  },
  {
   "cell_type": "code",
   "execution_count": null,
   "id": "a661cb96",
   "metadata": {},
   "outputs": [
    {
     "data": {
      "text/html": [
       "<div>\n",
       "<style scoped>\n",
       "    .dataframe tbody tr th:only-of-type {\n",
       "        vertical-align: middle;\n",
       "    }\n",
       "\n",
       "    .dataframe tbody tr th {\n",
       "        vertical-align: top;\n",
       "    }\n",
       "\n",
       "    .dataframe thead th {\n",
       "        text-align: right;\n",
       "    }\n",
       "</style>\n",
       "<table border=\"1\" class=\"dataframe\">\n",
       "  <thead>\n",
       "    <tr style=\"text-align: right;\">\n",
       "      <th></th>\n",
       "      <th>ID</th>\n",
       "      <th>TRACTCE</th>\n",
       "      <th>BLKGRPCE</th>\n",
       "      <th>Area</th>\n",
       "      <th>latitude</th>\n",
       "      <th>longitude</th>\n",
       "      <th>capacity</th>\n",
       "    </tr>\n",
       "  </thead>\n",
       "  <tbody>\n",
       "  </tbody>\n",
       "</table>\n",
       "</div>"
      ],
      "text/plain": [
       "Empty DataFrame\n",
       "Columns: [ID, TRACTCE, BLKGRPCE, Area, latitude, longitude, capacity]\n",
       "Index: []"
      ]
     },
     "execution_count": 10,
     "metadata": {},
     "output_type": "execute_result"
    }
   ],
   "source": [
    "building_cap[building_cap.isna().any(axis=1)]"
   ]
  },
  {
   "cell_type": "markdown",
   "id": "d218ce6a",
   "metadata": {},
   "source": [
    "## Building types from IDF files"
   ]
  },
  {
   "cell_type": "code",
   "execution_count": null,
   "id": "57ab1ae2",
   "metadata": {},
   "outputs": [
    {
     "name": "stdout",
     "output_type": "stream",
     "text": [
      "size: 0.0GB\n"
     ]
    },
    {
     "data": {
      "text/plain": [
       "MidriseApartment          815\n",
       "SmallOffice                21\n",
       "RetailStandalone           21\n",
       "Warehouse                  16\n",
       "SecondarySchool             7\n",
       "RetailStripmall             5\n",
       "PrimarySchool               5\n",
       "Outpatient                  4\n",
       "FullServiceRestaurant       3\n",
       "QuickServiceRestaurant      2\n",
       "LargeHotel                  1\n",
       "Name: BuildingType_idf, dtype: int64"
      ]
     },
     "execution_count": 11,
     "metadata": {},
     "output_type": "execute_result"
    }
   ],
   "source": [
    "# loc = data_dir+'Buildings/IDF_AZ/AZ_Pima'\n",
    "# type_subset = ['Building']\n",
    "# name_subset = ['Name']\n",
    "# filenames = building_loc.ID.astype(str)+'.idf'\n",
    "# buildingType = process_idf(loc,filenames,type_subset,name_subset)\n",
    "\n",
    "# buildingType['BuildingType_idf'] = buildingType['value'].str.split('-').str[1]\n",
    "# buildingType.BuildingType_idf.value_counts()"
   ]
  },
  {
   "cell_type": "code",
   "execution_count": null,
   "id": "58ee4c34",
   "metadata": {},
   "outputs": [
    {
     "data": {
      "text/html": [
       "<div>\n",
       "<style scoped>\n",
       "    .dataframe tbody tr th:only-of-type {\n",
       "        vertical-align: middle;\n",
       "    }\n",
       "\n",
       "    .dataframe tbody tr th {\n",
       "        vertical-align: top;\n",
       "    }\n",
       "\n",
       "    .dataframe thead th {\n",
       "        text-align: right;\n",
       "    }\n",
       "</style>\n",
       "<table border=\"1\" class=\"dataframe\">\n",
       "  <thead>\n",
       "    <tr style=\"text-align: right;\">\n",
       "      <th></th>\n",
       "      <th>ID</th>\n",
       "      <th>BuildingType</th>\n",
       "      <th>BuildingType_idf</th>\n",
       "    </tr>\n",
       "  </thead>\n",
       "  <tbody>\n",
       "    <tr>\n",
       "      <th>4</th>\n",
       "      <td>8019004626038</td>\n",
       "      <td>SmallOffice</td>\n",
       "      <td>MidriseApartment</td>\n",
       "    </tr>\n",
       "    <tr>\n",
       "      <th>10</th>\n",
       "      <td>8019004629838</td>\n",
       "      <td>LargeHotel</td>\n",
       "      <td>Warehouse</td>\n",
       "    </tr>\n",
       "    <tr>\n",
       "      <th>22</th>\n",
       "      <td>8019004630841</td>\n",
       "      <td>SmallOffice</td>\n",
       "      <td>MidriseApartment</td>\n",
       "    </tr>\n",
       "    <tr>\n",
       "      <th>57</th>\n",
       "      <td>8019004637601</td>\n",
       "      <td>HighriseApartment</td>\n",
       "      <td>MidriseApartment</td>\n",
       "    </tr>\n",
       "    <tr>\n",
       "      <th>76</th>\n",
       "      <td>8019004642804</td>\n",
       "      <td>FullServiceRestaurant</td>\n",
       "      <td>MidriseApartment</td>\n",
       "    </tr>\n",
       "  </tbody>\n",
       "</table>\n",
       "</div>"
      ],
      "text/plain": [
       "               ID           BuildingType  BuildingType_idf\n",
       "4   8019004626038            SmallOffice  MidriseApartment\n",
       "10  8019004629838             LargeHotel         Warehouse\n",
       "22  8019004630841            SmallOffice  MidriseApartment\n",
       "57  8019004637601      HighriseApartment  MidriseApartment\n",
       "76  8019004642804  FullServiceRestaurant  MidriseApartment"
      ]
     },
     "execution_count": 12,
     "metadata": {},
     "output_type": "execute_result"
    }
   ],
   "source": [
    "# type_comparison = pd.merge(building_loc,buildingType[['ID','BuildingType_idf']],how='left',on=['ID'])\n",
    "# type_comparison = type_comparison[['ID','BuildingType','BuildingType_idf']]\n",
    "# type_comparison = type_comparison[(type_comparison.BuildingType!='IECC') & (type_comparison.BuildingType!=type_comparison.BuildingType_idf)]\n",
    "# type_comparison.to_csv(data_dir+'Buildings/'+'building_types.csv',index=False)\n",
    "# type_comparison.head()"
   ]
  },
  {
   "cell_type": "markdown",
   "id": "575d8234",
   "metadata": {},
   "source": [
    "# Building set - Default schedules"
   ]
  },
  {
   "cell_type": "code",
   "execution_count": null,
   "id": "c222b30a",
   "metadata": {},
   "outputs": [
    {
     "name": "stdout",
     "output_type": "stream",
     "text": [
      "size: 0.0201GB\n",
      "Stored 'building_set' (DataFrame)\n",
      "900\n"
     ]
    }
   ],
   "source": [
    "# type_subset = ['Schedule:Day:Interval']\n",
    "# loc = data_dir+'Buildings/IDF_AZ/AZ_Pima'\n",
    "# filenames = building_loc.ID.astype(str)+'.idf'\n",
    "# building_set = process_idf(loc,filenames,type_subset)\n",
    "# %store building_set\n",
    "# print(len(np.unique(building_set.ID)))"
   ]
  }
 ],
 "metadata": {
  "kernelspec": {
   "display_name": "Python 3 (ipykernel)",
   "language": "python",
   "name": "python3"
  },
  "language_info": {
   "codemirror_mode": {
    "name": "ipython",
    "version": 3
   },
   "file_extension": ".py",
   "mimetype": "text/x-python",
   "name": "python",
   "nbconvert_exporter": "python",
   "pygments_lexer": "ipython3",
   "version": "3.9.17"
  }
 },
 "nbformat": 4,
 "nbformat_minor": 5
}
